{
 "cells": [
  {
   "cell_type": "markdown",
   "metadata": {},
   "source": [
    "https://www.ncbi.nlm.nih.gov/geo/query/acc.cgi?acc=GSE85218"
   ]
  },
  {
   "cell_type": "code",
   "execution_count": null,
   "metadata": {},
   "outputs": [],
   "source": [
    "from __init__ import *"
   ]
  },
  {
   "cell_type": "code",
   "execution_count": null,
   "metadata": {},
   "outputs": [],
   "source": [
    "gse_id = \"GSE85218\""
   ]
  },
  {
   "cell_type": "code",
   "execution_count": null,
   "metadata": {},
   "outputs": [],
   "source": [
    "feature_x_sample = pd.read_csv(\"../input/mmc2.tsv\", sep=\"\\t\", index_col=0).T\n",
    "\n",
    "feature_x_sample.index.name = \"Feature\"\n",
    "\n",
    "feature_x_sample"
   ]
  },
  {
   "cell_type": "code",
   "execution_count": null,
   "metadata": {},
   "outputs": [],
   "source": [
    "file_path = kraft.internet.download(\n",
    "    \"ftp://ftp.ncbi.nlm.nih.gov/geo/series/GSE85nnn/GSE85212/suppl/GSE85212%5FMethylation%5F763samples%5FSubtypeStudy%5FTaylorLab%5Fbeta%5Fvalues%2Etxt%2Egz\",\n",
    "    SETTING[\"directory_path\"],\n",
    "    overwrite=SETTING[\"overwrite\"],\n",
    ")"
   ]
  },
  {
   "cell_type": "code",
   "execution_count": null,
   "metadata": {},
   "outputs": [],
   "source": [
    "cg_x_sample = pd.read_csv(file_path, sep=\"\\t\")\n",
    "\n",
    "ch3_gene_x_sample = pd.DataFrame(\n",
    "    data=cg_x_sample.to_numpy(), columns=cg_x_sample.columns\n",
    ")\n",
    "\n",
    "ch3_gene_x_sample.index = kraft.name_biology.name_gene(cg_x_sample.index.to_numpy())\n",
    "\n",
    "ch3_gene_x_sample.index.name = \"Gene\"\n",
    "\n",
    "ch3_gene_x_sample = kraft.pd.collapse(ch3_gene_x_sample)\n",
    "\n",
    "ch3_gene_x_sample"
   ]
  },
  {
   "cell_type": "code",
   "execution_count": null,
   "metadata": {},
   "outputs": [],
   "source": [
    "file_path = kraft.internet.download(\n",
    "    \"ftp://ftp.ncbi.nlm.nih.gov/geo/series/GSE85nnn/GSE85217/suppl/GSE85217%5FM%5Fexp%5F763%5FMB%5FSubtypeStudy%5FTaylorLab%2Etxt%2Egz\",\n",
    "    SETTING[\"directory_path\"],\n",
    "    overwrite=SETTING[\"overwrite\"],\n",
    ")"
   ]
  },
  {
   "cell_type": "code",
   "execution_count": null,
   "metadata": {},
   "outputs": [],
   "source": [
    "ensg_x_sample = pd.read_csv(file_path, sep=\"\\t\", index_col=2).drop(\n",
    "    labels=[\n",
    "        \"Probe.Set.Name\",\n",
    "        \"Description\",\n",
    "        \"HGNC_symbol_from_ensemblv77\",\n",
    "        \"HGNC_ID_from_ensemblv77\",\n",
    "    ],\n",
    "    axis=1,\n",
    ")\n",
    "\n",
    "rna_gene_x_sample = pd.DataFrame(\n",
    "    data=ensg_x_sample.to_numpy(), columns=ensg_x_sample.columns\n",
    ")\n",
    "\n",
    "rna_gene_x_sample.index = kraft.name_biology.name_gene(ensg_x_sample.index.to_numpy())\n",
    "\n",
    "rna_gene_x_sample.index.name = \"Gene\"\n",
    "\n",
    "rna_gene_x_sample = kraft.pd.collapse(rna_gene_x_sample)\n",
    "\n",
    "rna_gene_x_sample"
   ]
  }
 ],
 "metadata": {
  "kernelspec": {
   "display_name": "Python 3",
   "language": "python",
   "name": "python3"
  },
  "language_info": {
   "codemirror_mode": {
    "name": "ipython",
    "version": 3
   },
   "file_extension": ".py",
   "mimetype": "text/x-python",
   "name": "python",
   "nbconvert_exporter": "python",
   "pygments_lexer": "ipython3",
   "version": "3.7.8"
  }
 },
 "nbformat": 4,
 "nbformat_minor": 4
}
