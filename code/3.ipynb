{
 "cells": [
  {
   "cell_type": "markdown",
   "metadata": {},
   "source": [
    "## [Novel molecular subgroups for clinical classification and outcome prediction in childhood medulloblastoma: a cohort study](https://www.thelancet.com/journals/lanonc/article/PIIS1470-2045(17)30243-7/fulltext)\n",
    "\n",
    "[GSE93646](https://www.ncbi.nlm.nih.gov/geo/query/acc.cgi?acc=GSE93646) has methylation data.\n",
    "\n",
    "Its SOFT file has only the information values but not the sample values, which are in its supplementary file. \n",
    "\n",
    "So we read the information values from its SOFT file and the sample values from its supplementary file."
   ]
  },
  {
   "cell_type": "code",
   "execution_count": null,
   "metadata": {},
   "outputs": [],
   "source": [
    "%load_ext autoreload\n",
    "%autoreload 2"
   ]
  },
  {
   "cell_type": "code",
   "execution_count": null,
   "metadata": {},
   "outputs": [],
   "source": [
    "import pandas as pd\n",
    "\n",
    "import kraft"
   ]
  },
  {
   "cell_type": "code",
   "execution_count": null,
   "metadata": {},
   "outputs": [],
   "source": [
    "SETTING = kraft.json.read(\"setting.json\")"
   ]
  },
  {
   "cell_type": "code",
   "execution_count": null,
   "metadata": {},
   "outputs": [],
   "source": [
    "data_directory_path = SETTING[\"data_directory_path\"]\n",
    "\n",
    "overwrite = False"
   ]
  },
  {
   "cell_type": "code",
   "execution_count": null,
   "metadata": {},
   "outputs": [],
   "source": [
    "gse_id = \"GSE93646\""
   ]
  },
  {
   "cell_type": "code",
   "execution_count": null,
   "metadata": {},
   "outputs": [],
   "source": [
    "_x_samples = kraft.geo.get_gse(gse_id, data_directory_path, overwrite=overwrite)\n",
    "\n",
    "# TODO: remove \"genomic DNA from medulloblastoma_\" prefix"
   ]
  },
  {
   "cell_type": "code",
   "execution_count": null,
   "metadata": {},
   "outputs": [],
   "source": [
    "ch3_gene_x_sample = pd.read_csv(\n",
    "    kraft.internet.download(\n",
    "        \"ftp://ftp.ncbi.nlm.nih.gov/geo/series/GSE93nnn/GSE93646/suppl/GSE93646_processed_data.txt.gz\",\n",
    "        data_directory_path,\n",
    "        overwrite=overwrite,\n",
    "    ),\n",
    "    sep=\"\\t\",\n",
    "    index_col=1,\n",
    ").iloc[:, 1::2]\n",
    "\n",
    "ch3_gene_x_sample.index = (label for label in ch3_gene_x_sample.index.to_numpy())\n",
    "\n",
    "ch3_gene_x_sample = ch3_gene_x_sample.loc[~ch3_gene_x_sample.index.isna()]\n",
    "\n",
    "print(ch3_gene_x_sample.shape)\n",
    "\n",
    "ch3_gene_x_sample = ch3_gene_x_sample.groupby(level=0).median()\n",
    "\n",
    "print(ch3_gene_x_sample.shape)\n",
    "\n",
    "ch3_gene_x_sample.index.name = \"Gene\"\n",
    "\n",
    "ch3_gene_x_sample"
   ]
  }
 ],
 "metadata": {
  "kernelspec": {
   "display_name": "Python 3",
   "language": "python",
   "name": "python3"
  },
  "language_info": {
   "codemirror_mode": {
    "name": "ipython",
    "version": 3
   },
   "file_extension": ".py",
   "mimetype": "text/x-python",
   "name": "python",
   "nbconvert_exporter": "python",
   "pygments_lexer": "ipython3",
   "version": "3.7.8"
  }
 },
 "nbformat": 4,
 "nbformat_minor": 4
}
