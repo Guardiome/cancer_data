{
 "cells": [
  {
   "cell_type": "markdown",
   "metadata": {},
   "source": [
    "https://www.ncbi.nlm.nih.gov/geo/query/acc.cgi?acc=GSE131482"
   ]
  },
  {
   "cell_type": "code",
   "execution_count": null,
   "metadata": {},
   "outputs": [],
   "source": [
    "%load_ext autoreload\n",
    "%autoreload 2"
   ]
  },
  {
   "cell_type": "code",
   "execution_count": null,
   "metadata": {},
   "outputs": [],
   "source": [
    "import pandas as pd\n",
    "\n",
    "import kraft"
   ]
  },
  {
   "cell_type": "code",
   "execution_count": null,
   "metadata": {},
   "outputs": [],
   "source": [
    "SETTING = kraft.json.read(\"setting.json\")"
   ]
  },
  {
   "cell_type": "code",
   "execution_count": null,
   "metadata": {},
   "outputs": [],
   "source": [
    "gse_id = \"GSE131482\""
   ]
  },
  {
   "cell_type": "code",
   "execution_count": null,
   "metadata": {},
   "outputs": [],
   "source": [
    "_x_samples = kraft.geo.get_gse(\n",
    "    gse_id, SETTING[\"data_directory_path\"], overwrite=SETTING[\"overwrite\"]\n",
    ")"
   ]
  },
  {
   "cell_type": "code",
   "execution_count": null,
   "metadata": {},
   "outputs": [],
   "source": [
    "binary_feature_x_sample = _x_samples[2]\n",
    "\n",
    "binary_feature_x_sample.columns = (\n",
    "    label[5:] for label in binary_feature_x_sample.columns.to_numpy()\n",
    ")\n",
    "\n",
    "binary_feature_x_sample"
   ]
  },
  {
   "cell_type": "code",
   "execution_count": null,
   "metadata": {},
   "outputs": [],
   "source": [
    "file_path_0 = kraft.internet.download(\n",
    "    \"https://ftp.ncbi.nlm.nih.gov/geo/series/GSE131nnn/GSE131482/suppl/GSE131482%5FGPL13534%5Fmatrix%5Fprocessed%2Etxt%2Egz\",\n",
    "    SETTING[\"data_directory_path\"],\n",
    "    overwrite=SETTING[\"overwrite\"],\n",
    ")\n",
    "\n",
    "file_path_1 = kraft.internet.download(\n",
    "    \"https://ftp.ncbi.nlm.nih.gov/geo/series/GSE131nnn/GSE131482/suppl/GSE131482%5FGPL21145%5Fmatrix%5Fprocessed%2Etxt%2Egz\",\n",
    "    SETTING[\"data_directory_path\"],\n",
    "    overwrite=SETTING[\"overwrite\"],\n",
    ")"
   ]
  },
  {
   "cell_type": "code",
   "execution_count": null,
   "metadata": {},
   "outputs": [],
   "source": [
    "cg_x_sample_0 = pd.read_csv(file_path_0, sep=\"\\t\", index_col=0).iloc[:, 0::2]\n",
    "\n",
    "cg_x_sample_1 = pd.read_csv(file_path_1, sep=\"\\t\", index_col=0).iloc[:, 0::2]"
   ]
  },
  {
   "cell_type": "code",
   "execution_count": null,
   "metadata": {},
   "outputs": [],
   "source": [
    "cg_x_sample = pd.concat((cg_x_sample_0, cg_x_sample_1), axis=1)\n",
    "\n",
    "cg_gene_x_sample = pd.DataFrame(\n",
    "    data=cg_x_sample.to_numpy(), columns=cg_x_sample.columns\n",
    ")\n",
    "\n",
    "cg_gene_x_sample.index = kraft.name_biology.name_genes(cg_x_sample.index.to_numpy())\n",
    "\n",
    "cg_gene_x_sample.index.name = \"Gene\"\n",
    "\n",
    "cg_gene_x_sample = kraft.feature_x_sample.collapse(cg_gene_x_sample)\n",
    "\n",
    "cg_gene_x_sample"
   ]
  }
 ],
 "metadata": {
  "kernelspec": {
   "display_name": "Python 3",
   "language": "python",
   "name": "python3"
  },
  "language_info": {
   "codemirror_mode": {
    "name": "ipython",
    "version": 3
   },
   "file_extension": ".py",
   "mimetype": "text/x-python",
   "name": "python",
   "nbconvert_exporter": "python",
   "pygments_lexer": "ipython3",
   "version": "3.7.8"
  }
 },
 "nbformat": 4,
 "nbformat_minor": 4
}
