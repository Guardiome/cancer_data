{
 "cells": [
  {
   "cell_type": "markdown",
   "metadata": {},
   "source": [
    "## [Intertumoral Heterogeneity within Medulloblastoma Subgroups](https://www.cell.com/cancer-cell/fulltext/S1535-6108(17)30201-5)\n",
    "\n",
    "[GSE85218](https://www.ncbi.nlm.nih.gov/geo/query/acc.cgi?acc=GSE85218) is a SuperSeries containing [GSE85212](https://www.ncbi.nlm.nih.gov/geo/query/acc.cgi?acc=GSE85212) (methylation data) and [GSE85217](https://www.ncbi.nlm.nih.gov/geo/query/acc.cgi?acc=GSE85217) (RNA data).\n",
    "\n",
    "8's SOFT file has the information values for both 2 and 7, but the sample values for only 7.\n",
    "We do not read the information values from this SOFT file, because we read them from the paper's supplementary table 2, which has richer information for 2 and 7.\n",
    "(However, this table uses blue and red to represent 0 and 1, so we had to manually fix it and save it as mmc2.tsv before reading it.)\n",
    "Also, we do not read 7's sample values from this SOFT file because we read them from 7.\n",
    "Overall, we do not read from 8.\n",
    "\n",
    "2's SOFT file has the information values, but is missing the sample values, which are in its supplementary file.\n",
    "So we read 2's sample values from its supplementary file.\n",
    "\n",
    "7's SOFT file has the information values and the sample values.\n",
    "But these sample values have different sample names from the 2's sample values.\n",
    "7 also has a supplementary file with the sample values.\n",
    "And these sample values have the same sample names with the 2's sample values.\n",
    "For consistency and for matching the sample names, we read 7's sample values from its supplementary file."
   ]
  },
  {
   "cell_type": "code",
   "execution_count": null,
   "metadata": {},
   "outputs": [],
   "source": [
    "%load_ext autoreload\n",
    "%autoreload 2"
   ]
  },
  {
   "cell_type": "code",
   "execution_count": null,
   "metadata": {},
   "outputs": [],
   "source": [
    "import pandas as pd\n",
    "\n",
    "import kraft"
   ]
  },
  {
   "cell_type": "code",
   "execution_count": null,
   "metadata": {},
   "outputs": [],
   "source": [
    "SETTING = kraft.json.read(\"setting.json\")"
   ]
  },
  {
   "cell_type": "code",
   "execution_count": null,
   "metadata": {},
   "outputs": [],
   "source": [
    "data_directory_path = SETTING[\"data_directory_path\"]\n",
    "\n",
    "overwrite = False"
   ]
  },
  {
   "cell_type": "code",
   "execution_count": null,
   "metadata": {},
   "outputs": [],
   "source": [
    "feature_x_sample = pd.read_csv(\"mmc2.tsv\", sep=\"\\t\", index_col=0,).T\n",
    "\n",
    "feature_x_sample.index.name = \"Feature\"\n",
    "\n",
    "feature_x_sample"
   ]
  },
  {
   "cell_type": "code",
   "execution_count": null,
   "metadata": {},
   "outputs": [],
   "source": [
    "ch3_gene_x_sample = pd.read_csv(\n",
    "    kraft.internet.download(\n",
    "        \"https://ftp.ncbi.nlm.nih.gov/geo/series/GSE85nnn/GSE85212/suppl/GSE85212_Methylation_763samples_SubtypeStudy_TaylorLab_beta_values.txt.gz\",\n",
    "        data_directory_path,\n",
    "        overwrite=overwrite,\n",
    "    ),\n",
    "    sep=\"\\t\",\n",
    ")\n",
    "\n",
    "ch3_gene_x_sample.index = (label for label in ch3_gene_x_sample.index.to_numpy())\n",
    "\n",
    "ch3_gene_x_sample = ch3_gene_x_sample.loc[~ch3_gene_x_sample.index.isna()]\n",
    "\n",
    "print(ch3_gene_x_sample.shape)\n",
    "\n",
    "ch3_gene_x_sample = ch3_gene_x_sample.groupby(level=0).median()\n",
    "\n",
    "print(ch3_gene_x_sample.shape)\n",
    "\n",
    "ch3_gene_x_sample.index.name = \"Gene\"\n",
    "\n",
    "ch3_gene_x_sample"
   ]
  },
  {
   "cell_type": "code",
   "execution_count": null,
   "metadata": {},
   "outputs": [],
   "source": [
    "rna_gene_x_sample = pd.read_csv(\n",
    "    kraft.internet.download(\n",
    "        \"https://ftp.ncbi.nlm.nih.gov/geo/series/GSE85nnn/GSE85217/suppl/GSE85217_M_exp_763_MB_SubtypeStudy_TaylorLab.txt.gz\",\n",
    "        data_directory_path,\n",
    "        overwrite=overwrite,\n",
    "    ),\n",
    "    sep=\"\\t\",\n",
    "    index_col=0,\n",
    ").iloc[:, 4:]\n",
    "\n",
    "rna_gene_x_sample.index = (label for label in rna_gene_x_sample.index.to_numpy())\n",
    "\n",
    "rna_gene_x_sample = rna_gene_x_sample.loc[~rna_gene_x_sample.index.isna()]\n",
    "\n",
    "print(rna_gene_x_sample.shape)\n",
    "\n",
    "rna_gene_x_sample = rna_gene_x_sample.groupby(level=0).median()\n",
    "\n",
    "print(rna_gene_x_sample.shape)\n",
    "\n",
    "rna_gene_x_sample.index.name = \"Gene\"\n",
    "\n",
    "rna_gene_x_sample"
   ]
  }
 ],
 "metadata": {
  "kernelspec": {
   "display_name": "Python 3",
   "language": "python",
   "name": "python3"
  },
  "language_info": {
   "codemirror_mode": {
    "name": "ipython",
    "version": 3
   },
   "file_extension": ".py",
   "mimetype": "text/x-python",
   "name": "python",
   "nbconvert_exporter": "python",
   "pygments_lexer": "ipython3",
   "version": "3.7.8"
  }
 },
 "nbformat": 4,
 "nbformat_minor": 4
}
