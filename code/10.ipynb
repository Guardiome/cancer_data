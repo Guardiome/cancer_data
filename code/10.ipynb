{
 "cells": [
  {
   "cell_type": "markdown",
   "metadata": {},
   "source": [
    "## [Humanized Stem Cell Models of Pediatric Medulloblastoma Reveal an Oct4/mTOR Axis that Promotes Malignancy](https://www.cell.com/cell-stem-cell/fulltext/S1934-5909(19)30426-6?_returnURL=https%3A%2F%2Flinkinghub.elsevier.com%2Fretrieve%2Fpii%2FS1934590919304266%3Fshowall%3Dtrue)\n",
    "\n",
    "[GSE106728](https://www.ncbi.nlm.nih.gov/geo/query/acc.cgi?acc=GSE106728) is a SuperSeries containing [GSE106725](https://www.ncbi.nlm.nih.gov/geo/query/acc.cgi?acc=GSE106725) (SNP data) and [GSE106727](https://www.ncbi.nlm.nih.gov/geo/query/acc.cgi?acc=GSE106727) (RNA data)."
   ]
  },
  {
   "cell_type": "code",
   "execution_count": null,
   "metadata": {},
   "outputs": [],
   "source": [
    "%load_ext autoreload\n",
    "%autoreload 2"
   ]
  },
  {
   "cell_type": "code",
   "execution_count": null,
   "metadata": {},
   "outputs": [],
   "source": [
    "import pandas as pd\n",
    "\n",
    "import kraft"
   ]
  },
  {
   "cell_type": "code",
   "execution_count": null,
   "metadata": {},
   "outputs": [],
   "source": [
    "SETTING = kraft.json.read(\"setting.json\")"
   ]
  },
  {
   "cell_type": "code",
   "execution_count": null,
   "metadata": {},
   "outputs": [],
   "source": [
    "data_directory_path = SETTING[\"data_directory_path\"]\n",
    "\n",
    "overwrite = False"
   ]
  },
  {
   "cell_type": "code",
   "execution_count": null,
   "metadata": {},
   "outputs": [],
   "source": [
    "gse_id = \"GSE106728\""
   ]
  },
  {
   "cell_type": "code",
   "execution_count": null,
   "metadata": {},
   "outputs": [],
   "source": [
    "_x_samples = kraft.geo.get_gse(gse_id, data_directory_path, overwrite=overwrite)"
   ]
  },
  {
   "cell_type": "code",
   "execution_count": null,
   "metadata": {},
   "outputs": [],
   "source": [
    "gse_id = \"GSE106725\""
   ]
  },
  {
   "cell_type": "code",
   "execution_count": null,
   "metadata": {},
   "outputs": [],
   "source": [
    "_x_samples = kraft.geo.get_gse(gse_id, data_directory_path, overwrite=overwrite)"
   ]
  },
  {
   "cell_type": "code",
   "execution_count": null,
   "metadata": {},
   "outputs": [],
   "source": [
    "gse_id = \"GSE106727\""
   ]
  },
  {
   "cell_type": "code",
   "execution_count": null,
   "metadata": {},
   "outputs": [],
   "source": [
    "_x_samples = kraft.geo.get_gse(gse_id, data_directory_path, overwrite=overwrite)"
   ]
  }
 ],
 "metadata": {
  "kernelspec": {
   "display_name": "Python 3",
   "language": "python",
   "name": "python3"
  },
  "language_info": {
   "codemirror_mode": {
    "name": "ipython",
    "version": 3
   },
   "file_extension": ".py",
   "mimetype": "text/x-python",
   "name": "python",
   "nbconvert_exporter": "python",
   "pygments_lexer": "ipython3",
   "version": "3.7.8"
  }
 },
 "nbformat": 4,
 "nbformat_minor": 4
}
