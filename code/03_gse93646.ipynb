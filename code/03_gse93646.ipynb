{
 "cells": [
  {
   "cell_type": "markdown",
   "metadata": {},
   "source": [
    "https://www.ncbi.nlm.nih.gov/geo/query/acc.cgi?acc=GSE93646"
   ]
  },
  {
   "cell_type": "code",
   "execution_count": null,
   "metadata": {},
   "outputs": [],
   "source": [
    "from __init__ import *"
   ]
  },
  {
   "cell_type": "code",
   "execution_count": null,
   "metadata": {},
   "outputs": [],
   "source": [
    "gse_id = \"GSE93646\""
   ]
  },
  {
   "cell_type": "code",
   "execution_count": null,
   "metadata": {},
   "outputs": [],
   "source": [
    "_x_samples = kraft.geo.get_gse(\n",
    "    gse_id, SETTING[\"directory_path\"], overwrite=SETTING[\"overwrite\"]\n",
    ")"
   ]
  },
  {
   "cell_type": "code",
   "execution_count": null,
   "metadata": {},
   "outputs": [],
   "source": [
    "continuous_feature_x_sample = _x_samples[1]\n",
    "\n",
    "continuous_feature_x_sample.columns = (\n",
    "    label.split(sep=\"_\", maxsplit=1)[1]\n",
    "    for label in continuous_feature_x_sample.columns.to_numpy()\n",
    ")\n",
    "\n",
    "continuous_feature_x_sample"
   ]
  },
  {
   "cell_type": "code",
   "execution_count": null,
   "metadata": {},
   "outputs": [],
   "source": [
    "binary_feature_x_sample = _x_samples[2]\n",
    "\n",
    "binary_feature_x_sample.columns = continuous_feature_x_sample.columns\n",
    "\n",
    "binary_feature_x_sample"
   ]
  },
  {
   "cell_type": "code",
   "execution_count": null,
   "metadata": {},
   "outputs": [],
   "source": [
    "cg_x_sample = pd.read_csv(\n",
    "    kraft.internet.download(\n",
    "        \"ftp://ftp.ncbi.nlm.nih.gov/geo/series/GSE93nnn/GSE93646/suppl/GSE93646_processed_data.txt.gz\",\n",
    "        SETTING[\"directory_path\"],\n",
    "        overwrite=SETTING[\"overwrite\"],\n",
    "    ),\n",
    "    sep=\"\\t\",\n",
    "    index_col=1,\n",
    ").iloc[:, 1::2]\n",
    "\n",
    "ch3_gene_x_sample = pd.DataFrame(\n",
    "    data=cg_x_sample.to_numpy(), columns=cg_x_sample.columns\n",
    ")\n",
    "\n",
    "ch3_gene_x_sample.index = kraft.name_biology.name_genes(cg_x_sample.index.to_numpy())\n",
    "\n",
    "ch3_gene_x_sample.index.name = \"Gene\"\n",
    "\n",
    "ch3_gene_x_sample = kraft.feature_x_sample.collapse(ch3_gene_x_sample)\n",
    "\n",
    "ch3_gene_x_sample"
   ]
  }
 ],
 "metadata": {
  "kernelspec": {
   "display_name": "Python 3",
   "language": "python",
   "name": "python3"
  },
  "language_info": {
   "codemirror_mode": {
    "name": "ipython",
    "version": 3
   },
   "file_extension": ".py",
   "mimetype": "text/x-python",
   "name": "python",
   "nbconvert_exporter": "python",
   "pygments_lexer": "ipython3",
   "version": "3.7.8"
  }
 },
 "nbformat": 4,
 "nbformat_minor": 4
}
