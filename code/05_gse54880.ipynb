{
 "cells": [
  {
   "cell_type": "markdown",
   "metadata": {},
   "source": [
    "https://www.ncbi.nlm.nih.gov/geo/query/acc.cgi?acc=GSE54880"
   ]
  },
  {
   "cell_type": "code",
   "execution_count": null,
   "metadata": {},
   "outputs": [],
   "source": [
    "%load_ext autoreload\n",
    "%autoreload 2"
   ]
  },
  {
   "cell_type": "code",
   "execution_count": null,
   "metadata": {},
   "outputs": [],
   "source": [
    "import pandas as pd\n",
    "\n",
    "import kraft"
   ]
  },
  {
   "cell_type": "code",
   "execution_count": null,
   "metadata": {},
   "outputs": [],
   "source": [
    "SETTING = kraft.json.read(\"setting.json\")"
   ]
  },
  {
   "cell_type": "code",
   "execution_count": null,
   "metadata": {},
   "outputs": [],
   "source": [
    "gse_id = \"GSE54880\""
   ]
  },
  {
   "cell_type": "code",
   "execution_count": null,
   "metadata": {},
   "outputs": [],
   "source": [
    "_x_samples = kraft.geo.get_gse(\n",
    "    gse_id, SETTING[\"data_directory_path\"], overwrite=SETTING[\"overwrite\"]\n",
    ")"
   ]
  },
  {
   "cell_type": "code",
   "execution_count": null,
   "metadata": {},
   "outputs": [],
   "source": [
    "file_path = kraft.internet.download(\n",
    "    \"ftp://ftp.ncbi.nlm.nih.gov/geo/series/GSE54nnn/GSE54880/suppl/GSE54880%5FMB%2D450k%5FGEOupload%5FBeta%2Etxt%2Egz\",\n",
    "    SETTING[\"data_directory_path\"],\n",
    "    overwrite=SETTING[\"overwrite\"],\n",
    ")"
   ]
  },
  {
   "cell_type": "code",
   "execution_count": null,
   "metadata": {},
   "outputs": [],
   "source": [
    "cg_x_sample = pd.read_csv(file_path, sep=\"\\t\", na_values=(\" \",), index_col=0).iloc[\n",
    "    :, 0::2\n",
    "]\n",
    "\n",
    "ch3_gene_x_sample = pd.DataFrame(\n",
    "    data=cg_x_sample.to_numpy(), columns=cg_x_sample.columns\n",
    ")\n",
    "\n",
    "ch3_gene_x_sample.index = kraft.name_biology.name_genes(cg_x_sample.index.to_numpy())\n",
    "\n",
    "ch3_gene_x_sample.index.name = \"Gene\"\n",
    "\n",
    "ch3_gene_x_sample = kraft.feature_x_sample.collapse(ch3_gene_x_sample)\n",
    "\n",
    "ch3_gene_x_sample"
   ]
  }
 ],
 "metadata": {
  "kernelspec": {
   "display_name": "Python 3",
   "language": "python",
   "name": "python3"
  },
  "language_info": {
   "codemirror_mode": {
    "name": "ipython",
    "version": 3
   },
   "file_extension": ".py",
   "mimetype": "text/x-python",
   "name": "python",
   "nbconvert_exporter": "python",
   "pygments_lexer": "ipython3",
   "version": "3.7.8"
  }
 },
 "nbformat": 4,
 "nbformat_minor": 4
}
