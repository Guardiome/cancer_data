{
 "cells": [
  {
   "cell_type": "markdown",
   "metadata": {},
   "source": [
    "https://www.ncbi.nlm.nih.gov/geo/query/acc.cgi?acc=GSE106728"
   ]
  },
  {
   "cell_type": "code",
   "execution_count": null,
   "metadata": {},
   "outputs": [],
   "source": [
    "from __init__ import *"
   ]
  },
  {
   "cell_type": "code",
   "execution_count": null,
   "metadata": {},
   "outputs": [],
   "source": [
    "gse_id = \"GSE106728\""
   ]
  },
  {
   "cell_type": "code",
   "execution_count": null,
   "metadata": {},
   "outputs": [],
   "source": [
    "_x_samples = kraft.geo.get_gse(\n",
    "    gse_id, SETTING[\"directory_path\"], overwrite=SETTING[\"overwrite\"]\n",
    ")"
   ]
  },
  {
   "cell_type": "code",
   "execution_count": null,
   "metadata": {},
   "outputs": [],
   "source": [
    "binary_feature_x_sample = _x_samples[2]\n",
    "\n",
    "binary_feature_x_sample"
   ]
  },
  {
   "cell_type": "code",
   "execution_count": null,
   "metadata": {},
   "outputs": [],
   "source": [
    "ch3_gene_x_sample = _x_samples[3]\n",
    "\n",
    "ch3_gene_x_sample"
   ]
  },
  {
   "cell_type": "code",
   "execution_count": null,
   "metadata": {},
   "outputs": [],
   "source": [
    "rna_file_path_0 = kraft.internet.download(\n",
    "    \"ftp://ftp.ncbi.nlm.nih.gov/geo/series/GSE106nnn/GSE106725/suppl/GSE106725%5FExpression%5Fnormalized%2Etxt%2Egz\",\n",
    "    SETTING[\"directory_path\"],\n",
    "    overwrite=SETTING[\"overwrite\"],\n",
    ")\n",
    "\n",
    "rna_file_path_1 = kraft.internet.download(\n",
    "    \"ftp://ftp.ncbi.nlm.nih.gov/geo/series/GSE106nnn/GSE106725/suppl/GSE106725%5Fip%5F308%5Fraw%5Fcounts%2Etxt%2Egz\",\n",
    "    SETTING[\"directory_path\"],\n",
    "    overwrite=SETTING[\"overwrite\"],\n",
    ")\n",
    "\n",
    "rna_file_path_2 = kraft.internet.download(\n",
    "    \"ftp://ftp.ncbi.nlm.nih.gov/geo/series/GSE106nnn/GSE106725/suppl/GSE106725%5Fis%5F119%5Fraw%5Fcounts%2Etxt%2Egz\",\n",
    "    SETTING[\"directory_path\"],\n",
    "    overwrite=SETTING[\"overwrite\"],\n",
    ")"
   ]
  },
  {
   "cell_type": "code",
   "execution_count": null,
   "metadata": {},
   "outputs": [],
   "source": [
    "rna_gene_x_sample_0 = pd.read_csv(rna_file_path_0, sep=\"\\t\", index_col=0)\n",
    "\n",
    "rna_gene_x_sample_1 = pd.read_csv(rna_file_path_1, sep=\"\\t\", index_col=0)\n",
    "\n",
    "rna_gene_x_sample_2 = pd.read_csv(rna_file_path_2, sep=\"\\t\", index_col=0)"
   ]
  },
  {
   "cell_type": "code",
   "execution_count": null,
   "metadata": {},
   "outputs": [],
   "source": [
    "rna_gene_x_sample = pd.concat(\n",
    "    (rna_gene_x_sample_0, rna_gene_x_sample_1, rna_gene_x_sample_2), axis=1\n",
    ")\n",
    "\n",
    "rna_gene_x_sample.index = kraft.name_biology.name_genes(\n",
    "    rna_gene_x_sample.index.to_numpy()\n",
    ")\n",
    "\n",
    "rna_gene_x_sample.index.name = \"Gene\"\n",
    "\n",
    "rna_gene_x_sample"
   ]
  }
 ],
 "metadata": {
  "kernelspec": {
   "display_name": "Python 3",
   "language": "python",
   "name": "python3"
  },
  "language_info": {
   "codemirror_mode": {
    "name": "ipython",
    "version": 3
   },
   "file_extension": ".py",
   "mimetype": "text/x-python",
   "name": "python",
   "nbconvert_exporter": "python",
   "pygments_lexer": "ipython3",
   "version": "3.7.8"
  }
 },
 "nbformat": 4,
 "nbformat_minor": 4
}
