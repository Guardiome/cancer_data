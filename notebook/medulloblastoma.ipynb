{
 "cells": [
  {
   "cell_type": "code",
   "execution_count": 1,
   "metadata": {},
   "outputs": [],
   "source": [
    "%load_ext autoreload\n",
    "%autoreload 2"
   ]
  },
  {
   "cell_type": "code",
   "execution_count": 2,
   "metadata": {},
   "outputs": [],
   "source": [
    "import os\n",
    "\n",
    "import pandas as pd\n",
    "\n",
    "import get_geo\n",
    "import kraft\n",
    "import name_biology"
   ]
  },
  {
   "cell_type": "code",
   "execution_count": 3,
   "metadata": {},
   "outputs": [],
   "source": [
    "directory_path = os.path.expanduser(\"~/Downloads\")\n",
    "\n",
    "overwrite = False"
   ]
  },
  {
   "cell_type": "markdown",
   "metadata": {},
   "source": [
    "## [Intertumoral Heterogeneity within Medulloblastoma Subgroups](https://www.cell.com/cancer-cell/fulltext/S1535-6108(17)30201-5)\n",
    "\n",
    "[GSE85218](https://www.ncbi.nlm.nih.gov/geo/query/acc.cgi?acc=GSE85218) (GSE85212, GSE85217)"
   ]
  },
  {
   "cell_type": "code",
   "execution_count": 4,
   "metadata": {},
   "outputs": [],
   "source": [
    "gse_id = \"GSE85218\""
   ]
  },
  {
   "cell_type": "code",
   "execution_count": 5,
   "metadata": {},
   "outputs": [
    {
     "name": "stdout",
     "output_type": "stream",
     "text": [
      "(32, 1144)\n",
      "                                             GSM2260745  \\\n",
      "Information                                               \n",
      "Sample_title          MB_SubtypeStudy_55001_methylation   \n",
      "Sample_geo_accession                         GSM2260745   \n",
      "\n",
      "                                             GSM2260747  \n",
      "Information                                              \n",
      "Sample_title          MB_SubtypeStudy_55003_methylation  \n",
      "Sample_geo_accession                         GSM2260747  \n",
      "(21641, 762)\n",
      "                    GSM2261539  GSM2261540\n",
      "GPL22286                                  \n",
      "ENSG00000000003_at    8.406470    8.006128\n",
      "ENSG00000000005_at    3.911187    3.686010\n"
     ]
    }
   ],
   "source": [
    "_x_samples = get_geo.get_gse(gse_id, directory_path, overwrite=overwrite)"
   ]
  },
  {
   "cell_type": "code",
   "execution_count": 6,
   "metadata": {},
   "outputs": [],
   "source": [
    "gse_id = \"GSE85212\""
   ]
  },
  {
   "cell_type": "code",
   "execution_count": 7,
   "metadata": {},
   "outputs": [
    {
     "name": "stdout",
     "output_type": "stream",
     "text": [
      "(32, 382)\n",
      "                                             GSM2260745  \\\n",
      "Information                                               \n",
      "Sample_title          MB_SubtypeStudy_55001_methylation   \n",
      "Sample_geo_accession                         GSM2260745   \n",
      "\n",
      "                                             GSM2260747  \n",
      "Information                                              \n",
      "Sample_title          MB_SubtypeStudy_55003_methylation  \n",
      "Sample_geo_accession                         GSM2260747  \n"
     ]
    }
   ],
   "source": [
    "_x_samples = get_geo.get_gse(gse_id, directory_path, overwrite=overwrite)"
   ]
  },
  {
   "cell_type": "code",
   "execution_count": 8,
   "metadata": {},
   "outputs": [],
   "source": [
    "# _x_sample = pd.read_csv(\n",
    "#     kraft.download(\n",
    "#         \"https://ftp.ncbi.nlm.nih.gov/geo/series/GSE85nnn/GSE85212/suppl/GSE85212_Methylation_763samples_SubtypeStudy_TaylorLab_beta_values.txt.gz\",\n",
    "#         directory_path,\n",
    "#         overwrite=overwrite,\n",
    "#     ),\n",
    "#     sep=\"\\t\",\n",
    "# )\n",
    "\n",
    "# _x_sample.index = _x_sample.index.map(name_biology.ILMNID_GENE)\n",
    "\n",
    "# _x_sample.index.name = \"Gene\"\n",
    "\n",
    "# _x_sample = kraft.tidy(kraft.group(_x_sample.loc[~_x_sample.index.isna()]))\n",
    "\n",
    "# _x_sample"
   ]
  },
  {
   "cell_type": "code",
   "execution_count": 9,
   "metadata": {},
   "outputs": [],
   "source": [
    "gse_id = \"GSE85217\""
   ]
  },
  {
   "cell_type": "code",
   "execution_count": 10,
   "metadata": {},
   "outputs": [
    {
     "name": "stdout",
     "output_type": "stream",
     "text": [
      "(32, 763)\n",
      "                                 GSM2261538             GSM2261539\n",
      "Information                                                       \n",
      "Sample_title          MB_SubtypeStudy_55001  MB_SubtypeStudy_55002\n",
      "Sample_geo_accession             GSM2261538             GSM2261539\n",
      "(21641, 763)\n",
      "                    GSM2261538  GSM2261539\n",
      "GPL22286                                  \n",
      "ENSG00000000003_at    8.810256    8.406470\n",
      "ENSG00000000005_at    4.022827    3.911187\n"
     ]
    }
   ],
   "source": [
    "_x_samples = get_geo.get_gse(gse_id, directory_path, overwrite=overwrite)"
   ]
  },
  {
   "cell_type": "code",
   "execution_count": 11,
   "metadata": {},
   "outputs": [],
   "source": [
    "# _x_sample = pd.read_csv(\n",
    "#     kraft.download(\n",
    "#         \"https://ftp.ncbi.nlm.nih.gov/geo/series/GSE85nnn/GSE85217/suppl/GSE85217_M_exp_763_MB_SubtypeStudy_TaylorLab.txt.gz\",\n",
    "#         directory_path,\n",
    "#         overwrite=overwrite,\n",
    "#     ),\n",
    "#     sep=\"\\t\",\n",
    "#     index_col=0,\n",
    "# ).iloc[:, 4:]\n",
    "\n",
    "# _x_sample.index = _x_sample.index.map(name_biology.ENS_GENE)\n",
    "\n",
    "# _x_sample.index.name = \"Gene\"\n",
    "\n",
    "# _x_sample = kraft.tidy(kraft.group(_x_sample.loc[~_x_sample.index.isna()]))\n",
    "\n",
    "# _x_sample"
   ]
  },
  {
   "cell_type": "markdown",
   "metadata": {},
   "source": [
    "## [Subgroup-specific structural variation across 1,000 medulloblastoma genomes](https://www.nature.com/articles/nature11327)\n",
    "\n",
    "[GSE37385](https://www.ncbi.nlm.nih.gov/geo/query/acc.cgi?acc=GSE37385) (GSE37382, GSE37384)"
   ]
  },
  {
   "cell_type": "code",
   "execution_count": 12,
   "metadata": {},
   "outputs": [],
   "source": [
    "gse_id = \"GSE37385\""
   ]
  },
  {
   "cell_type": "code",
   "execution_count": 13,
   "metadata": {},
   "outputs": [],
   "source": [
    "gse_id = \"GSE37382\""
   ]
  },
  {
   "cell_type": "code",
   "execution_count": 14,
   "metadata": {},
   "outputs": [
    {
     "name": "stdout",
     "output_type": "stream",
     "text": [
      "Grouping index with median...\n",
      "(22148, 285)\n",
      "(20254, 285)\n",
      "(33, 285)\n",
      "                                                GSM917011  \\\n",
      "Information                                                 \n",
      "Sample_title          Primary medulloblastoma sample_MB-7   \n",
      "Sample_geo_accession                            GSM917011   \n",
      "\n",
      "                                                 GSM917012  \n",
      "Information                                                 \n",
      "Sample_title          Primary medulloblastoma sample_MB-14  \n",
      "Sample_geo_accession                             GSM917012  \n",
      "(20254, 285)\n",
      "          GSM917011  GSM917012\n",
      "GPL11532                      \n",
      "A1BG           6.38       6.12\n",
      "A1CF           4.79       4.97\n"
     ]
    }
   ],
   "source": [
    "_x_samples = get_geo.get_gse(gse_id, directory_path, overwrite=overwrite)"
   ]
  },
  {
   "cell_type": "code",
   "execution_count": 15,
   "metadata": {},
   "outputs": [],
   "source": [
    "gse_id = \"GSE37384\""
   ]
  },
  {
   "cell_type": "markdown",
   "metadata": {},
   "source": [
    "## [Novel molecular subgroups for clinical classification and outcome prediction in childhood medulloblastoma: a cohort study](https://www.thelancet.com/journals/lanonc/article/PIIS1470-2045(17)30243-7/fulltext)\n",
    "\n",
    "[GSE93646](https://www.ncbi.nlm.nih.gov/geo/query/acc.cgi?acc=GSE93646)"
   ]
  },
  {
   "cell_type": "code",
   "execution_count": 16,
   "metadata": {},
   "outputs": [],
   "source": [
    "gse_id = \"GSE93646\""
   ]
  },
  {
   "cell_type": "code",
   "execution_count": 17,
   "metadata": {},
   "outputs": [
    {
     "name": "stdout",
     "output_type": "stream",
     "text": [
      "(33, 214)\n",
      "                                                   GSM2459424  \\\n",
      "Information                                                     \n",
      "Sample_title          genomic DNA from medulloblastoma_NMB109   \n",
      "Sample_geo_accession                               GSM2459424   \n",
      "\n",
      "                                                   GSM2459426  \n",
      "Information                                                    \n",
      "Sample_title          genomic DNA from medulloblastoma_NMB111  \n",
      "Sample_geo_accession                               GSM2459426  \n"
     ]
    }
   ],
   "source": [
    "_x_samples = get_geo.get_gse(gse_id, directory_path, overwrite=overwrite)"
   ]
  },
  {
   "cell_type": "code",
   "execution_count": 18,
   "metadata": {},
   "outputs": [],
   "source": [
    "# _x_sample = pd.read_csv(\n",
    "#     kraft.download(\n",
    "#         \"ftp://ftp.ncbi.nlm.nih.gov/geo/series/GSE93nnn/GSE93646/suppl/GSE93646_processed_data.txt.gz\",\n",
    "#         directory_path,\n",
    "#         overwrite=overwrite,\n",
    "#     ),\n",
    "#     sep=\"\\t\",\n",
    "#     index_col=1,\n",
    "# ).iloc[:, 1::2]\n",
    "\n",
    "# _x_sample.index = _x_sample.index.map(name_biology.ILMNID_GENE)\n",
    "\n",
    "# _x_sample.index.name = \"Gene\"\n",
    "\n",
    "# _x_sample = kraft.tidy(kraft.group(_x_sample.loc[~_x_sample.index.isna()]))\n",
    "\n",
    "# _x_sample"
   ]
  },
  {
   "cell_type": "markdown",
   "metadata": {},
   "source": [
    "## [Multiple recurrent genetic events converge on control of histone lysine methylation in medulloblastoma](https://www.nature.com/articles/ng.336)\n",
    "\n",
    "[GSE14437](https://www.ncbi.nlm.nih.gov/geo/query/acc.cgi?acc=GSE14437)"
   ]
  },
  {
   "cell_type": "code",
   "execution_count": 19,
   "metadata": {},
   "outputs": [],
   "source": [
    "gse_id = \"GSE14437\""
   ]
  },
  {
   "cell_type": "code",
   "execution_count": 20,
   "metadata": {},
   "outputs": [
    {
     "name": "stdout",
     "output_type": "stream",
     "text": [
      "(32, 424)\n",
      "                      GSM360374  GSM360375\n",
      "Information                               \n",
      "Sample_title          D283_Hind  D341_Hind\n",
      "Sample_geo_accession  GSM360374  GSM360375\n",
      "(57244, 89)\n",
      "               GSM360374  GSM360375\n",
      "GPL2004                            \n",
      "SNP_A-1658633   9767.437   9338.078\n",
      "SNP_A-1691633   3746.943   2976.335\n",
      "(59015, 89)\n",
      "               GSM360463  GSM360464\n",
      "GPL2005                            \n",
      "SNP_A-1643131   2148.237   2404.798\n",
      "SNP_A-1708186  11947.279   9662.887\n",
      "(262264, 123)\n",
      "               GSM360552  GSM360553\n",
      "GPL3718                            \n",
      "SNP_A-1780619    258.213    804.452\n",
      "SNP_A-1780618    887.228    726.159\n",
      "(238304, 123)\n",
      "               GSM360675  GSM360676\n",
      "GPL3720                            \n",
      "SNP_A-1780358    896.486    871.209\n",
      "SNP_A-1780551    690.959    681.482\n"
     ]
    }
   ],
   "source": [
    "_x_samples = get_geo.get_gse(gse_id, directory_path, overwrite=overwrite)"
   ]
  }
 ],
 "metadata": {
  "kernelspec": {
   "display_name": "Python 3",
   "language": "python",
   "name": "python3"
  },
  "language_info": {
   "codemirror_mode": {
    "name": "ipython",
    "version": 3
   },
   "file_extension": ".py",
   "mimetype": "text/x-python",
   "name": "python",
   "nbconvert_exporter": "python",
   "pygments_lexer": "ipython3",
   "version": "3.7.6"
  }
 },
 "nbformat": 4,
 "nbformat_minor": 4
}
