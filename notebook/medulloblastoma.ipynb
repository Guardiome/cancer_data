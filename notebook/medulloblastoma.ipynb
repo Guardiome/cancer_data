{
 "cells": [
  {
   "cell_type": "code",
   "execution_count": null,
   "metadata": {},
   "outputs": [],
   "source": [
    "%load_ext autoreload\n",
    "%autoreload 2"
   ]
  },
  {
   "cell_type": "code",
   "execution_count": null,
   "metadata": {},
   "outputs": [],
   "source": [
    "import os\n",
    "\n",
    "import pandas as pd\n",
    "\n",
    "import get_geo\n",
    "import kraft\n",
    "import name_biology"
   ]
  },
  {
   "cell_type": "code",
   "execution_count": null,
   "metadata": {},
   "outputs": [],
   "source": [
    "directory_path = os.path.expanduser(\"~/Downloads\")"
   ]
  },
  {
   "cell_type": "code",
   "execution_count": null,
   "metadata": {
    "scrolled": true
   },
   "outputs": [],
   "source": [
    "(\n",
    "    gene_x_sample,\n",
    "    information_x_sample,\n",
    "    continuous_x_sample,\n",
    "    binary_x_sample,\n",
    ") = get_geo.get_gse(\"GSE37382\", directory_path)"
   ]
  },
  {
   "cell_type": "code",
   "execution_count": null,
   "metadata": {},
   "outputs": [],
   "source": [
    "gene_x_sample"
   ]
  },
  {
   "cell_type": "code",
   "execution_count": null,
   "metadata": {},
   "outputs": [],
   "source": [
    "information_x_sample"
   ]
  },
  {
   "cell_type": "code",
   "execution_count": null,
   "metadata": {},
   "outputs": [],
   "source": [
    "continuous_x_sample"
   ]
  },
  {
   "cell_type": "code",
   "execution_count": null,
   "metadata": {},
   "outputs": [],
   "source": [
    "binary_x_sample"
   ]
  },
  {
   "cell_type": "code",
   "execution_count": null,
   "metadata": {},
   "outputs": [],
   "source": [
    "(\n",
    "    gene_x_sample,\n",
    "    information_x_sample,\n",
    "    continuous_x_sample,\n",
    "    binary_x_sample,\n",
    ") = get_geo.get_gse(\"GSE85212\", directory_path)"
   ]
  },
  {
   "cell_type": "code",
   "execution_count": null,
   "metadata": {},
   "outputs": [],
   "source": [
    "gene_x_sample"
   ]
  },
  {
   "cell_type": "code",
   "execution_count": null,
   "metadata": {},
   "outputs": [],
   "source": [
    "information_x_sample"
   ]
  },
  {
   "cell_type": "code",
   "execution_count": null,
   "metadata": {},
   "outputs": [],
   "source": [
    "continuous_x_sample"
   ]
  },
  {
   "cell_type": "code",
   "execution_count": null,
   "metadata": {},
   "outputs": [],
   "source": [
    "binary_x_sample"
   ]
  },
  {
   "cell_type": "code",
   "execution_count": null,
   "metadata": {},
   "outputs": [],
   "source": [
    "file_path = kraft.download(\n",
    "    \"ftp://ftp.ncbi.nlm.nih.gov/geo/series/GSE85nnn/GSE85212/suppl/GSE85212_Methylation_763samples_SubtypeStudy_TaylorLab_beta_values.txt.gz\",\n",
    "    directory_path,\n",
    ")\n",
    "\n",
    "methylation_cg_x_sample = pd.read_csv(file_path, sep=\"\\t\")"
   ]
  },
  {
   "cell_type": "code",
   "execution_count": null,
   "metadata": {},
   "outputs": [],
   "source": [
    "methylation_gene_x_sample = methylation_cg_x_sample\n",
    "\n",
    "methylation_gene_x_sample.index = methylation_cg_x_sample.index.map(\n",
    "    name_biology.ILMNID_GENE\n",
    ")\n",
    "\n",
    "print(methylation_gene_x_sample.shape)\n",
    "\n",
    "methylation_gene_x_sample = methylation_gene_x_sample.groupby(level=0).median()\n",
    "\n",
    "print(methylation_gene_x_sample.shape)\n",
    "\n",
    "sample_name_geo_sample_name = dict(\n",
    "    zip(\n",
    "        information_x_sample.loc[\"!Sample_title\"].str[: -len(\"_methylation\") - 1],\n",
    "        information_x_sample.columns,\n",
    "    )\n",
    ")\n",
    "\n",
    "methylation_gene_x_sample.columns = methylation_cg_x_sample.columns.map(\n",
    "    sample_name_geo_sample_name\n",
    ")\n",
    "\n",
    "kraft.summarize(methylation_gene_x_sample)\n",
    "\n",
    "methylation_gene_x_sample"
   ]
  },
  {
   "cell_type": "code",
   "execution_count": null,
   "metadata": {},
   "outputs": [],
   "source": [
    "(\n",
    "    gene_x_sample,\n",
    "    information_x_sample,\n",
    "    continuous_x_sample,\n",
    "    binary_x_sample,\n",
    ") = get_geo.get_gse(\"GSE85217\", directory_path)"
   ]
  },
  {
   "cell_type": "code",
   "execution_count": null,
   "metadata": {},
   "outputs": [],
   "source": [
    "gene_x_sample"
   ]
  },
  {
   "cell_type": "code",
   "execution_count": null,
   "metadata": {},
   "outputs": [],
   "source": [
    "information_x_sample"
   ]
  },
  {
   "cell_type": "code",
   "execution_count": null,
   "metadata": {},
   "outputs": [],
   "source": [
    "continuous_x_sample"
   ]
  },
  {
   "cell_type": "code",
   "execution_count": null,
   "metadata": {},
   "outputs": [],
   "source": [
    "binary_x_sample"
   ]
  },
  {
   "cell_type": "code",
   "execution_count": null,
   "metadata": {},
   "outputs": [],
   "source": [
    "information_x_sample = pd.read_csv(\"mmc2_ben.tsv\", sep=\"\\t\", index_col=0).T.dropna(\n",
    "    how=\"all\"\n",
    ")\n",
    "\n",
    "information_x_sample.columns = information_x_sample.columns.map(\n",
    "    sample_name_geo_sample_name\n",
    ")\n",
    "\n",
    "\n",
    "binary_cnv_information_x_sample = information_x_sample.iloc[17:]\n",
    "\n",
    "information_x_sample = information_x_sample.iloc[:17]\n",
    "\n",
    "continuous_information_x_sample, binary_information_x_sample = kraft.separate_type(\n",
    "    information_x_sample\n",
    ")"
   ]
  }
 ],
 "metadata": {
  "kernelspec": {
   "display_name": "Python 3",
   "language": "python",
   "name": "python3"
  },
  "language_info": {
   "codemirror_mode": {
    "name": "ipython",
    "version": 3
   },
   "file_extension": ".py",
   "mimetype": "text/x-python",
   "name": "python",
   "nbconvert_exporter": "python",
   "pygments_lexer": "ipython3",
   "version": "3.7.6"
  }
 },
 "nbformat": 4,
 "nbformat_minor": 4
}
