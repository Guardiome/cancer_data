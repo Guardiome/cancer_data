{
 "cells": [
  {
   "cell_type": "code",
   "execution_count": null,
   "metadata": {},
   "outputs": [],
   "source": [
    "%load_ext autoreload\n",
    "%autoreload 2"
   ]
  },
  {
   "cell_type": "code",
   "execution_count": null,
   "metadata": {},
   "outputs": [],
   "source": [
    "import os\n",
    "\n",
    "import pandas as pd\n",
    "\n",
    "import get_geo\n",
    "import kraft\n",
    "import name_biology"
   ]
  },
  {
   "cell_type": "code",
   "execution_count": null,
   "metadata": {},
   "outputs": [],
   "source": [
    "directory_path = os.path.expanduser(\"~/Downloads\")\n",
    "\n",
    "overwrite = False"
   ]
  },
  {
   "cell_type": "markdown",
   "metadata": {},
   "source": [
    "## [Intertumoral Heterogeneity within Medulloblastoma Subgroups](https://www.cell.com/cancer-cell/fulltext/S1535-6108(17)30201-5)\n",
    "\n",
    "[GSE85218](https://www.ncbi.nlm.nih.gov/geo/query/acc.cgi?acc=GSE85218) (GSE85212, GSE85217)"
   ]
  },
  {
   "cell_type": "code",
   "execution_count": null,
   "metadata": {},
   "outputs": [],
   "source": [
    "gse_id = \"GSE85218\""
   ]
  },
  {
   "cell_type": "code",
   "execution_count": null,
   "metadata": {},
   "outputs": [],
   "source": [
    "_x_samples = get_geo.get_gse(gse_id, directory_path, overwrite=overwrite)"
   ]
  },
  {
   "cell_type": "code",
   "execution_count": null,
   "metadata": {},
   "outputs": [],
   "source": [
    "gse_id = \"GSE85212\""
   ]
  },
  {
   "cell_type": "code",
   "execution_count": null,
   "metadata": {},
   "outputs": [],
   "source": [
    "_x_samples = get_geo.get_gse(gse_id, directory_path, overwrite=overwrite)"
   ]
  },
  {
   "cell_type": "code",
   "execution_count": null,
   "metadata": {},
   "outputs": [],
   "source": [
    "# _x_sample = pd.read_csv(\n",
    "#     kraft.download(\n",
    "#         \"https://ftp.ncbi.nlm.nih.gov/geo/series/GSE85nnn/GSE85212/suppl/GSE85212_Methylation_763samples_SubtypeStudy_TaylorLab_beta_values.txt.gz\",\n",
    "#         directory_path,\n",
    "#         overwrite=overwrite,\n",
    "#     ),\n",
    "#     sep=\"\\t\",\n",
    "# )\n",
    "\n",
    "# _x_sample.index = _x_sample.index.map(name_biology.ILMNID_GENE)\n",
    "\n",
    "# _x_sample.index.name = \"Gene\"\n",
    "\n",
    "# _x_sample = kraft.tidy(kraft.group(_x_sample.loc[~_x_sample.index.isna()]))\n",
    "\n",
    "# _x_sample"
   ]
  },
  {
   "cell_type": "code",
   "execution_count": null,
   "metadata": {},
   "outputs": [],
   "source": [
    "gse_id = \"GSE85217\""
   ]
  },
  {
   "cell_type": "code",
   "execution_count": null,
   "metadata": {},
   "outputs": [],
   "source": [
    "_x_samples = get_geo.get_gse(gse_id, directory_path, overwrite=overwrite)"
   ]
  },
  {
   "cell_type": "code",
   "execution_count": null,
   "metadata": {},
   "outputs": [],
   "source": [
    "# _x_sample = pd.read_csv(\n",
    "#     kraft.download(\n",
    "#         \"https://ftp.ncbi.nlm.nih.gov/geo/series/GSE85nnn/GSE85217/suppl/GSE85217_M_exp_763_MB_SubtypeStudy_TaylorLab.txt.gz\",\n",
    "#         directory_path,\n",
    "#         overwrite=overwrite,\n",
    "#     ),\n",
    "#     sep=\"\\t\",\n",
    "#     index_col=0,\n",
    "# ).iloc[:, 4:]\n",
    "\n",
    "# _x_sample.index = _x_sample.index.map(name_biology.ENS_GENE)\n",
    "\n",
    "# _x_sample.index.name = \"Gene\"\n",
    "\n",
    "# _x_sample = kraft.tidy(kraft.group(_x_sample.loc[~_x_sample.index.isna()]))\n",
    "\n",
    "# _x_sample"
   ]
  },
  {
   "cell_type": "markdown",
   "metadata": {},
   "source": [
    "## [Subgroup-specific structural variation across 1,000 medulloblastoma genomes](https://www.nature.com/articles/nature11327)\n",
    "\n",
    "[GSE37385](https://www.ncbi.nlm.nih.gov/geo/query/acc.cgi?acc=GSE37385) (GSE37382, GSE37384)"
   ]
  },
  {
   "cell_type": "code",
   "execution_count": null,
   "metadata": {},
   "outputs": [],
   "source": [
    "gse_id = \"GSE37385\""
   ]
  },
  {
   "cell_type": "code",
   "execution_count": null,
   "metadata": {},
   "outputs": [],
   "source": [
    "gse_id = \"GSE37382\""
   ]
  },
  {
   "cell_type": "code",
   "execution_count": null,
   "metadata": {},
   "outputs": [],
   "source": [
    "_x_samples = get_geo.get_gse(gse_id, directory_path, overwrite=overwrite)"
   ]
  },
  {
   "cell_type": "code",
   "execution_count": null,
   "metadata": {},
   "outputs": [],
   "source": [
    "gse_id = \"GSE37384\""
   ]
  },
  {
   "cell_type": "markdown",
   "metadata": {},
   "source": [
    "## [Novel molecular subgroups for clinical classification and outcome prediction in childhood medulloblastoma: a cohort study](https://www.thelancet.com/journals/lanonc/article/PIIS1470-2045(17)30243-7/fulltext)\n",
    "\n",
    "[GSE93646](https://www.ncbi.nlm.nih.gov/geo/query/acc.cgi?acc=GSE93646)"
   ]
  },
  {
   "cell_type": "code",
   "execution_count": null,
   "metadata": {},
   "outputs": [],
   "source": [
    "gse_id = \"GSE93646\""
   ]
  },
  {
   "cell_type": "code",
   "execution_count": null,
   "metadata": {},
   "outputs": [],
   "source": [
    "_x_samples = get_geo.get_gse(gse_id, directory_path, overwrite=overwrite)"
   ]
  },
  {
   "cell_type": "code",
   "execution_count": null,
   "metadata": {},
   "outputs": [],
   "source": [
    "# _x_sample = pd.read_csv(\n",
    "#     kraft.download(\n",
    "#         \"ftp://ftp.ncbi.nlm.nih.gov/geo/series/GSE93nnn/GSE93646/suppl/GSE93646_processed_data.txt.gz\",\n",
    "#         directory_path,\n",
    "#         overwrite=overwrite,\n",
    "#     ),\n",
    "#     sep=\"\\t\",\n",
    "#     index_col=1,\n",
    "# ).iloc[:, 1::2]\n",
    "\n",
    "# _x_sample.index = _x_sample.index.map(name_biology.ILMNID_GENE)\n",
    "\n",
    "# _x_sample.index.name = \"Gene\"\n",
    "\n",
    "# _x_sample = kraft.tidy(kraft.group(_x_sample.loc[~_x_sample.index.isna()]))\n",
    "\n",
    "# _x_sample"
   ]
  },
  {
   "cell_type": "markdown",
   "metadata": {},
   "source": [
    "## [Multiple recurrent genetic events converge on control of histone lysine methylation in medulloblastoma](https://www.nature.com/articles/ng.336)\n",
    "\n",
    "[GSE14437](https://www.ncbi.nlm.nih.gov/geo/query/acc.cgi?acc=GSE14437)"
   ]
  },
  {
   "cell_type": "code",
   "execution_count": null,
   "metadata": {},
   "outputs": [],
   "source": [
    "gse_id = \"GSE14437\""
   ]
  },
  {
   "cell_type": "code",
   "execution_count": null,
   "metadata": {},
   "outputs": [],
   "source": [
    "_x_samples = get_geo.get_gse(gse_id, directory_path, overwrite=overwrite)"
   ]
  }
 ],
 "metadata": {
  "kernelspec": {
   "display_name": "Python 3",
   "language": "python",
   "name": "python3"
  },
  "language_info": {
   "codemirror_mode": {
    "name": "ipython",
    "version": 3
   },
   "file_extension": ".py",
   "mimetype": "text/x-python",
   "name": "python",
   "nbconvert_exporter": "python",
   "pygments_lexer": "ipython3",
   "version": "3.7.6"
  }
 },
 "nbformat": 4,
 "nbformat_minor": 4
}
