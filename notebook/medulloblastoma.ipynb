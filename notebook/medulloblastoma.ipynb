{
 "cells": [
  {
   "cell_type": "code",
   "execution_count": null,
   "metadata": {},
   "outputs": [],
   "source": [
    "%load_ext autoreload\n",
    "%autoreload 2"
   ]
  },
  {
   "cell_type": "code",
   "execution_count": null,
   "metadata": {},
   "outputs": [],
   "source": [
    "import os\n",
    "\n",
    "import pandas as pd\n",
    "\n",
    "import get_geo\n",
    "import kraft\n",
    "import name_biology"
   ]
  },
  {
   "cell_type": "code",
   "execution_count": null,
   "metadata": {},
   "outputs": [],
   "source": [
    "directory_path = os.path.expanduser(\"~/Downloads\")\n",
    "\n",
    "overwrite = False"
   ]
  },
  {
   "cell_type": "markdown",
   "metadata": {},
   "source": [
    "## [Intertumoral Heterogeneity within Medulloblastoma Subgroups](https://www.cell.com/cancer-cell/fulltext/S1535-6108(17)30201-5)\n",
    "\n",
    "[GSE85218](https://www.ncbi.nlm.nih.gov/geo/query/acc.cgi?acc=GSE85218) (GSE85212, GSE85217)"
   ]
  },
  {
   "cell_type": "code",
   "execution_count": null,
   "metadata": {},
   "outputs": [],
   "source": [
    "gse_id = \"GSE85218\""
   ]
  },
  {
   "cell_type": "code",
   "execution_count": null,
   "metadata": {},
   "outputs": [],
   "source": [
    "continuous_x_sample, binary_x_sample = kraft.separate_type(\n",
    "    pd.read_csv(\"mmc2.tsv\", sep=\"\\t\", index_col=0).T\n",
    ")\n",
    "\n",
    "continuous_x_sample = kraft.tidy(continuous_x_sample)\n",
    "\n",
    "continuous_x_sample.to_csv(\n",
    "    \"{}/{}_continuous_x_sample.tsv\".format(directory_path, gse_id)\n",
    ")\n",
    "\n",
    "binary_x_sample = kraft.tidy(binary_x_sample)\n",
    "\n",
    "binary_x_sample.to_csv(\"{}/{}_binary_x_sample.tsv\".format(directory_path, gse_id))"
   ]
  },
  {
   "cell_type": "code",
   "execution_count": null,
   "metadata": {},
   "outputs": [],
   "source": [
    "gene_x_sample = pd.read_csv(\n",
    "    kraft.download(\n",
    "        \"ftp://ftp.ncbi.nlm.nih.gov/geo/series/GSE85nnn/GSE85212/suppl/GSE85212_Methylation_763samples_SubtypeStudy_TaylorLab_beta_values.txt.gz\",\n",
    "        directory_path,\n",
    "        overwrite=overwrite,\n",
    "    ),\n",
    "    sep=\"\\t\",\n",
    ")\n",
    "\n",
    "gene_x_sample.index = gene_x_sample.index.map(name_biology.ILMNID_GENE)\n",
    "\n",
    "gene_x_sample = kraft.tidy(kraft.group(gene_x_sample.loc[~gene_x_sample.index.isna()]))\n",
    "\n",
    "gene_x_sample.to_csv(\n",
    "    \"{}/{}_methylation_gene_x_sample.tsv\".format(directory_path, gse_id), sep=\"\\t\"\n",
    ")"
   ]
  },
  {
   "cell_type": "code",
   "execution_count": null,
   "metadata": {},
   "outputs": [],
   "source": [
    "gene_x_sample = pd.read_csv(\n",
    "    kraft.download(\n",
    "        \"ftp://ftp.ncbi.nlm.nih.gov/geo/series/GSE85nnn/GSE85217/suppl/GSE85217_M_exp_763_MB_SubtypeStudy_TaylorLab.txt.gz\",\n",
    "        directory_path,\n",
    "        overwrite=overwrite,\n",
    "    ),\n",
    "    sep=\"\\t\",\n",
    "    index_col=0,\n",
    ").iloc[:, 4:]\n",
    "\n",
    "gene_x_sample.index = gene_x_sample.index.map(name_biology.ENS_GENE)\n",
    "\n",
    "gene_x_sample = kraft.tidy(kraft.group(gene_x_sample.loc[~gene_x_sample.index.isna()]))\n",
    "\n",
    "gene_x_sample.to_csv(\n",
    "    \"{}/{}_rna_gene_x_sample.tsv\".format(directory_path, gse_id), sep=\"\\t\"\n",
    ")"
   ]
  },
  {
   "cell_type": "markdown",
   "metadata": {},
   "source": [
    "## [Subgroup-specific structural variation across 1,000 medulloblastoma genomes](https://www.nature.com/articles/nature11327)\n",
    "\n",
    "[GSE37385](https://www.ncbi.nlm.nih.gov/geo/query/acc.cgi?acc=GSE37385) (GSE37382, GSE37384)"
   ]
  },
  {
   "cell_type": "code",
   "execution_count": null,
   "metadata": {},
   "outputs": [],
   "source": [
    "gse_id = \"GSE37385\""
   ]
  },
  {
   "cell_type": "code",
   "execution_count": null,
   "metadata": {},
   "outputs": [],
   "source": [
    "gse_id = \"GSE37382\""
   ]
  },
  {
   "cell_type": "code",
   "execution_count": null,
   "metadata": {},
   "outputs": [],
   "source": [
    "(\n",
    "    gene_x_sample,\n",
    "    information_x_sample,\n",
    "    continuous_x_sample,\n",
    "    binary_x_sample,\n",
    ") = get_geo.get_gse(gse_id, directory_path, overwrite=overwrite)\n",
    "\n",
    "gene_x_sample.to_csv(\"{}/{}_gene_x_sample.tsv\".format(directory_path, gse_id))\n",
    "\n",
    "continuous_x_sample.to_csv(\n",
    "    \"{}/{}_continuous_x_sample.tsv\".format(directory_path, gse_id)\n",
    ")\n",
    "\n",
    "binary_x_sample.to_csv(\"{}/{}_binary_x_sample.tsv\".format(directory_path, gse_id))"
   ]
  },
  {
   "cell_type": "code",
   "execution_count": null,
   "metadata": {},
   "outputs": [],
   "source": [
    "gse_id = \"GSE37384\""
   ]
  },
  {
   "cell_type": "code",
   "execution_count": null,
   "metadata": {},
   "outputs": [],
   "source": [
    "(\n",
    "    gene_x_sample,\n",
    "    information_x_sample,\n",
    "    continuous_x_sample,\n",
    "    binary_x_sample,\n",
    ") = get_geo.get_gse(gse_id, directory_path, overwrite=overwrite)"
   ]
  },
  {
   "cell_type": "markdown",
   "metadata": {},
   "source": [
    "## [Novel molecular subgroups for clinical classification and outcome prediction in childhood medulloblastoma: a cohort study](https://www.thelancet.com/journals/lanonc/article/PIIS1470-2045(17)30243-7/fulltext)"
   ]
  },
  {
   "cell_type": "code",
   "execution_count": null,
   "metadata": {},
   "outputs": [],
   "source": [
    "gse_id = \"GSE93646\"\n",
    "\n",
    "(\n",
    "    gene_x_sample,\n",
    "    information_x_sample,\n",
    "    continuous_x_sample,\n",
    "    binary_x_sample,\n",
    ") = get_geo.get_gse(gse_id, directory_path, overwrite=overwrite)"
   ]
  },
  {
   "cell_type": "markdown",
   "metadata": {},
   "source": [
    "## [Multiple recurrent genetic events converge on control of histone lysine methylation in medulloblastoma](https://www.nature.com/articles/ng.336)"
   ]
  },
  {
   "cell_type": "code",
   "execution_count": null,
   "metadata": {},
   "outputs": [],
   "source": [
    "gse_id = \"GSE14437\"\n",
    "\n",
    "(\n",
    "    gene_x_sample,\n",
    "    information_x_sample,\n",
    "    continuous_x_sample,\n",
    "    binary_x_sample,\n",
    ") = get_geo.get_gse(gse_id, directory_path, overwrite=overwrite)"
   ]
  }
 ],
 "metadata": {
  "kernelspec": {
   "display_name": "Python 3",
   "language": "python",
   "name": "python3"
  },
  "language_info": {
   "codemirror_mode": {
    "name": "ipython",
    "version": 3
   },
   "file_extension": ".py",
   "mimetype": "text/x-python",
   "name": "python",
   "nbconvert_exporter": "python",
   "pygments_lexer": "ipython3",
   "version": "3.7.6"
  }
 },
 "nbformat": 4,
 "nbformat_minor": 4
}
