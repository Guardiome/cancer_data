{
 "cells": [
  {
   "cell_type": "code",
   "execution_count": null,
   "metadata": {},
   "outputs": [],
   "source": [
    "%load_ext autoreload\n",
    "%autoreload 2"
   ]
  },
  {
   "cell_type": "code",
   "execution_count": null,
   "metadata": {},
   "outputs": [],
   "source": [
    "import os\n",
    "\n",
    "import pandas as pd\n",
    "\n",
    "import get_geo\n",
    "import kraft\n",
    "import name_biology"
   ]
  },
  {
   "cell_type": "code",
   "execution_count": null,
   "metadata": {},
   "outputs": [],
   "source": [
    "directory_path = os.path.expanduser(\"~/Downloads\")\n",
    "\n",
    "overwrite = False"
   ]
  },
  {
   "cell_type": "markdown",
   "metadata": {},
   "source": [
    "## [Intertumoral Heterogeneity within Medulloblastoma Subgroups](https://www.cell.com/cancer-cell/fulltext/S1535-6108(17)30201-5)\n",
    "\n",
    "[GSE85218](https://www.ncbi.nlm.nih.gov/geo/query/acc.cgi?acc=GSE85212) is a SuperSeries containing [GSE85212](https://www.ncbi.nlm.nih.gov/geo/query/acc.cgi?acc=GSE85212) (methylation data) and [GSE85217](https://www.ncbi.nlm.nih.gov/geo/query/acc.cgi?acc=GSE85217) (RNA data).\n",
    "\n",
    "8's SOFT file has information values for both 2 and 7, but sample values for only 7.\n",
    "We do not read the sample values for 7 from 8.\n",
    "Instead, we we read it from 7.\n",
    "Also, we do not read the information values from the SOFT file.\n",
    "Instead, we read it from the supplementary table 2 of the paper, which has richer information.\n",
    "However, this table uses blue and red to represent 0 and 1, so we had to manually fix it and save it as mmc2.tsv before being able to read it.\n",
    "\n",
    "2's SOFT file has information values, but is missing the methylation sample values, which are in the supplementary file.\n",
    "So we read the methylation sample values from the supplementary file.\n",
    "\n",
    "7's SOFT file has information values and the RNA sample values.\n",
    "7 also has a supplementary file containing the RNA sample values.\n",
    "The RNA sample values from the SOFT file have different sample names than the methylation sample values, but those from the supplementary file have the same names as the methylation sample values.\n",
    "So, for consistency and for matching sample names, we read the RNA sample values from the supplementary file."
   ]
  },
  {
   "cell_type": "code",
   "execution_count": null,
   "metadata": {},
   "outputs": [],
   "source": [
    "information_x_sample = pd.read_csv(\"mmc2.tsv\", sep=\"\\t\", index_col=0,).T\n",
    "\n",
    "information_x_sample.index.name = \"Information\"\n",
    "\n",
    "information_x_sample"
   ]
  },
  {
   "cell_type": "code",
   "execution_count": null,
   "metadata": {},
   "outputs": [],
   "source": [
    "methylation_gene_x_sample = pd.read_csv(\n",
    "    kraft.download(\n",
    "        \"https://ftp.ncbi.nlm.nih.gov/geo/series/GSE85nnn/GSE85212/suppl/GSE85212_Methylation_763samples_SubtypeStudy_TaylorLab_beta_values.txt.gz\",\n",
    "        directory_path,\n",
    "        overwrite=overwrite,\n",
    "    ),\n",
    "    sep=\"\\t\",\n",
    ")\n",
    "\n",
    "methylation_gene_x_sample.index = methylation_gene_x_sample.index.map(\n",
    "    name_biology.ILMNID_GENE\n",
    ")\n",
    "\n",
    "methylation_gene_x_sample.index.name = \"Gene\"\n",
    "\n",
    "methylation_gene_x_sample = kraft.tidy(\n",
    "    kraft.group(methylation_gene_x_sample.loc[~methylation_gene_x_sample.index.isna()])\n",
    ")\n",
    "\n",
    "methylation_gene_x_sample"
   ]
  },
  {
   "cell_type": "code",
   "execution_count": null,
   "metadata": {},
   "outputs": [],
   "source": [
    "rna_gene_x_sample = pd.read_csv(\n",
    "    kraft.download(\n",
    "        \"https://ftp.ncbi.nlm.nih.gov/geo/series/GSE85nnn/GSE85217/suppl/GSE85217_M_exp_763_MB_SubtypeStudy_TaylorLab.txt.gz\",\n",
    "        directory_path,\n",
    "        overwrite=overwrite,\n",
    "    ),\n",
    "    sep=\"\\t\",\n",
    "    index_col=0,\n",
    ").iloc[:, 4:]\n",
    "\n",
    "rna_gene_x_sample.index = rna_gene_x_sample.index.map(name_biology.ENS_GENE)\n",
    "\n",
    "rna_gene_x_sample.index.name = \"Gene\"\n",
    "\n",
    "rna_gene_x_sample = kraft.tidy(\n",
    "    kraft.group(rna_gene_x_sample.loc[~rna_gene_x_sample.index.isna()])\n",
    ")\n",
    "\n",
    "rna_gene_x_sample"
   ]
  },
  {
   "cell_type": "markdown",
   "metadata": {},
   "source": [
    "## [Subgroup-specific structural variation across 1,000 medulloblastoma genomes](https://www.nature.com/articles/nature11327)\n",
    "\n",
    "[GSE37385](https://www.ncbi.nlm.nih.gov/geo/query/acc.cgi?acc=GSE37385) is a SuperSeries containing [GSE37382](https://www.ncbi.nlm.nih.gov/geo/query/acc.cgi?acc=GSE37382) (RNA data) and [GSE37384](https://www.ncbi.nlm.nih.gov/geo/query/acc.cgi?acc=GSE37384) (copy number data).\n",
    "\n",
    "5's SOFT file is ~18G because it contains 4's copy number data, which is ~18G.\n",
    "\n",
    "We do not read the copy number data, so we do not read 5's and 4's SOFT files.\n",
    "\n",
    "We read the RNA data from 2's SOFT file."
   ]
  },
  {
   "cell_type": "code",
   "execution_count": null,
   "metadata": {},
   "outputs": [],
   "source": [
    "gse_id = \"GSE37382\""
   ]
  },
  {
   "cell_type": "code",
   "execution_count": null,
   "metadata": {},
   "outputs": [],
   "source": [
    "information_x_samples, rna_gene_x_sample = get_geo.get_gse(\n",
    "    gse_id, directory_path, overwrite=overwrite\n",
    ")"
   ]
  },
  {
   "cell_type": "markdown",
   "metadata": {},
   "source": [
    "## [Novel molecular subgroups for clinical classification and outcome prediction in childhood medulloblastoma: a cohort study](https://www.thelancet.com/journals/lanonc/article/PIIS1470-2045(17)30243-7/fulltext)\n",
    "\n",
    "[GSE93646](https://www.ncbi.nlm.nih.gov/geo/query/acc.cgi?acc=GSE93646) has methylation data.\n",
    "\n",
    "Its SOFT file has only information values and not methylation values, which is in its supplementary file. \n",
    "\n",
    "We read methylation values from the supplementary file."
   ]
  },
  {
   "cell_type": "code",
   "execution_count": null,
   "metadata": {},
   "outputs": [],
   "source": [
    "gse_id = \"GSE93646\""
   ]
  },
  {
   "cell_type": "code",
   "execution_count": null,
   "metadata": {},
   "outputs": [],
   "source": [
    "_x_samples = get_geo.get_gse(gse_id, directory_path, overwrite=overwrite)"
   ]
  },
  {
   "cell_type": "code",
   "execution_count": null,
   "metadata": {},
   "outputs": [],
   "source": [
    "methylation_gene_x_sample = pd.read_csv(\n",
    "    kraft.download(\n",
    "        \"ftp://ftp.ncbi.nlm.nih.gov/geo/series/GSE93nnn/GSE93646/suppl/GSE93646_processed_data.txt.gz\",\n",
    "        directory_path,\n",
    "        overwrite=overwrite,\n",
    "    ),\n",
    "    sep=\"\\t\",\n",
    "    index_col=1,\n",
    ").iloc[:, 1::2]\n",
    "\n",
    "methylation_gene_x_sample.index = methylation_gene_x_sample.index.map(\n",
    "    name_biology.ILMNID_GENE\n",
    ")\n",
    "\n",
    "methylation_gene_x_sample.index.name = \"Gene\"\n",
    "\n",
    "methylation_gene_x_sample = kraft.tidy(\n",
    "    kraft.group(methylation_gene_x_sample.loc[~methylation_gene_x_sample.index.isna()])\n",
    ")\n",
    "\n",
    "methylation_gene_x_sample"
   ]
  },
  {
   "cell_type": "markdown",
   "metadata": {},
   "source": [
    "## [Multiple recurrent genetic events converge on control of histone lysine methylation in medulloblastoma](https://www.nature.com/articles/ng.336)\n",
    "\n",
    "[GSE14437](https://www.ncbi.nlm.nih.gov/geo/query/acc.cgi?acc=GSE14437)"
   ]
  },
  {
   "cell_type": "code",
   "execution_count": null,
   "metadata": {},
   "outputs": [],
   "source": [
    "gse_id = \"GSE14437\""
   ]
  },
  {
   "cell_type": "code",
   "execution_count": null,
   "metadata": {},
   "outputs": [],
   "source": [
    "_x_samples = get_geo.get_gse(gse_id, directory_path, overwrite=overwrite)"
   ]
  }
 ],
 "metadata": {
  "kernelspec": {
   "display_name": "Python 3",
   "language": "python",
   "name": "python3"
  },
  "language_info": {
   "codemirror_mode": {
    "name": "ipython",
    "version": 3
   },
   "file_extension": ".py",
   "mimetype": "text/x-python",
   "name": "python",
   "nbconvert_exporter": "python",
   "pygments_lexer": "ipython3",
   "version": "3.7.6"
  }
 },
 "nbformat": 4,
 "nbformat_minor": 4
}
