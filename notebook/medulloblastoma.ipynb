{
 "cells": [
  {
   "cell_type": "code",
   "execution_count": null,
   "metadata": {},
   "outputs": [],
   "source": [
    "%load_ext autoreload\n",
    "%autoreload 2"
   ]
  },
  {
   "cell_type": "code",
   "execution_count": null,
   "metadata": {},
   "outputs": [],
   "source": [
    "import os\n",
    "\n",
    "import pandas as pd\n",
    "\n",
    "import get_geo\n",
    "import kraft\n",
    "import name_biology"
   ]
  },
  {
   "cell_type": "code",
   "execution_count": null,
   "metadata": {},
   "outputs": [],
   "source": [
    "directory_path = os.path.expanduser(\"~/Downloads\")\n",
    "\n",
    "overwrite = False"
   ]
  },
  {
   "cell_type": "markdown",
   "metadata": {},
   "source": [
    "## Northcott et al"
   ],
   "execution_count": null,
   "outputs": []
  },
  {
   "cell_type": "code",
   "execution_count": null,
   "metadata": {},
   "outputs": [],
   "source": [
    "(\n",
    "    gene_x_sample,\n",
    "    information_x_sample,\n",
    "    continuous_x_sample,\n",
    "    binary_x_sample,\n",
    ") = get_geo.get_gse(\"GSE37382\", directory_path, overwrite=overwrite)"
   ]
  },
  {
   "cell_type": "code",
   "execution_count": null,
   "metadata": {},
   "outputs": [],
   "source": [
    "gene_x_sample"
   ]
  },
  {
   "cell_type": "code",
   "execution_count": null,
   "metadata": {},
   "outputs": [],
   "source": [
    "continuous_x_sample"
   ]
  },
  {
   "cell_type": "code",
   "execution_count": null,
   "metadata": {},
   "outputs": [],
   "source": [
    "binary_x_sample"
   ]
  },
  {
   "cell_type": "markdown",
   "metadata": {},
   "source": [
    "## Cavallie et al"
   ],
   "execution_count": null,
   "outputs": []
  },
  {
   "cell_type": "code",
   "execution_count": null,
   "metadata": {},
   "outputs": [],
   "source": [
    "information_x_sample = get_geo.get_gse(\"GSE85218\", directory_path, overwrite=overwrite)[\n",
    "    1\n",
    "]\n",
    "\n",
    "gsm_name = dict(\n",
    "    zip(information_x_sample.columns, information_x_sample.loc[\"!Sample_title\"],)\n",
    ")"
   ]
  },
  {
   "cell_type": "code",
   "execution_count": null,
   "metadata": {},
   "outputs": [],
   "source": [
    "information_x_sample = pd.read_csv(\n",
    "    \"mmc2.tsv\".format(directory_path), sep=\"\\t\", index_col=0,\n",
    ").T\n",
    "\n",
    "continuous_x_sample, binary_x_sample = kraft.separate_type(information_x_sample)"
   ]
  },
  {
   "cell_type": "code",
   "execution_count": null,
   "metadata": {},
   "outputs": [],
   "source": [
    "continuous_x_sample"
   ]
  },
  {
   "cell_type": "code",
   "execution_count": null,
   "metadata": {},
   "outputs": [],
   "source": [
    "binary_x_sample"
   ]
  },
  {
   "cell_type": "code",
   "execution_count": null,
   "metadata": {},
   "outputs": [],
   "source": [
    "methylation_gene_x_sample = pd.read_csv(\n",
    "    kraft.download(\n",
    "        \"ftp://ftp.ncbi.nlm.nih.gov/geo/series/GSE85nnn/GSE85212/suppl/GSE85212_Methylation_763samples_SubtypeStudy_TaylorLab_beta_values.txt.gz\",\n",
    "        directory_path,\n",
    "        overwrite=overwrite,\n",
    "    ),\n",
    "    sep=\"\\t\",\n",
    ")\n",
    "\n",
    "methylation_gene_x_sample.index = methylation_gene_x_sample.index.map(\n",
    "    name_biology.ILMNID_GENE\n",
    ")\n",
    "\n",
    "methylation_gene_x_sample = methylation_gene_x_sample.loc[\n",
    "    ~methylation_gene_x_sample.index.isna()\n",
    "]\n",
    "\n",
    "methylation_gene_x_sample = kraft.group(methylation_gene_x_sample)\n",
    "\n",
    "methylation_gene_x_sample = kraft.tidy(methylation_gene_x_sample)\n",
    "\n",
    "methylation_gene_x_sample"
   ]
  },
  {
   "cell_type": "code",
   "execution_count": null,
   "metadata": {},
   "outputs": [],
   "source": [
    "rna_gene_x_sample = pd.read_csv(\n",
    "    kraft.download(\n",
    "        \"ftp://ftp.ncbi.nlm.nih.gov/geo/series/GSE85nnn/GSE85217/suppl/GSE85217_M_exp_763_MB_SubtypeStudy_TaylorLab.txt.gz\",\n",
    "        directory_path,\n",
    "        overwrite=overwrite,\n",
    "    ),\n",
    "    sep=\"\\t\",\n",
    "    index_col=0,\n",
    ").iloc[:, 4:]\n",
    "\n",
    "rna_gene_x_sample.index = rna_gene_x_sample.index.map(name_biology.ENS_GENE)\n",
    "\n",
    "rna_gene_x_sample = rna_gene_x_sample.loc[~rna_gene_x_sample.index.isna()]\n",
    "\n",
    "rna_gene_x_sample = kraft.group(rna_gene_x_sample)\n",
    "\n",
    "rna_gene_x_sample = kraft.tidy(rna_gene_x_sample)\n",
    "\n",
    "rna_gene_x_sample"
   ]
  }
 ],
 "metadata": {
  "kernelspec": {
   "display_name": "Python 3",
   "language": "python",
   "name": "python3"
  },
  "language_info": {
   "codemirror_mode": {
    "name": "ipython",
    "version": 3
   },
   "file_extension": ".py",
   "mimetype": "text/x-python",
   "name": "python",
   "nbconvert_exporter": "python",
   "pygments_lexer": "ipython3",
   "version": "3.7.6"
  }
 },
 "nbformat": 4,
 "nbformat_minor": 4
}
