{
 "cells": [
  {
   "cell_type": "code",
   "execution_count": null,
   "metadata": {},
   "outputs": [],
   "source": [
    "%load_ext autoreload\n",
    "%autoreload 2"
   ]
  },
  {
   "cell_type": "code",
   "execution_count": null,
   "metadata": {},
   "outputs": [],
   "source": [
    "import os\n",
    "\n",
    "import pandas as pd\n",
    "\n",
    "import get_geo\n",
    "import kraft\n",
    "import name_biology"
   ]
  },
  {
   "cell_type": "code",
   "execution_count": null,
   "metadata": {},
   "outputs": [],
   "source": [
    "directory_path = os.path.expanduser(\"~/Downloads\")\n",
    "\n",
    "overwrite = False"
   ]
  },
  {
   "cell_type": "markdown",
   "metadata": {},
   "source": [
    "https://www.nature.com/articles/nature11327"
   ]
  },
  {
   "cell_type": "code",
   "execution_count": null,
   "metadata": {},
   "outputs": [],
   "source": [
    "gse_id = \"GSE37382\"\n",
    "\n",
    "(gene_x_sample, _, continuous_x_sample, binary_x_sample,) = get_geo.get_gse(\n",
    "    gse_id, directory_path, overwrite=overwrite\n",
    ")\n",
    "\n",
    "gene_x_sample.to_csv(\"{}/{}_gene_x_sample.tsv\".format(directory_path, gse_id))\n",
    "\n",
    "continuous_x_sample.to_csv(\n",
    "    \"{}/{}_continuous_x_sample.tsv\".format(directory_path, gse_id)\n",
    ")\n",
    "\n",
    "binary_x_sample.to_csv(\"{}/{}_binary_x_sample.tsv\".format(directory_path, gse_id))"
   ]
  },
  {
   "cell_type": "markdown",
   "metadata": {},
   "source": [
    "https://www.cell.com/cancer-cell/fulltext/S1535-6108(17)30201-5"
   ]
  },
  {
   "cell_type": "code",
   "execution_count": null,
   "metadata": {},
   "outputs": [],
   "source": [
    "gse_id = \"GSE85218\"\n",
    "\n",
    "continuous_x_sample, binary_x_sample = kraft.separate_type(\n",
    "    pd.read_csv(\"mmc2.tsv\", sep=\"\\t\", index_col=0,).T\n",
    ")\n",
    "\n",
    "continuous_x_sample = kraft.tidy(continuous_x_sample)\n",
    "\n",
    "binary_x_sample = kraft.tidy(binary_x_sample)\n",
    "\n",
    "continuous_x_sample.to_csv(\n",
    "    \"{}/{}_continuous_x_sample.tsv\".format(directory_path, gse_id)\n",
    ")\n",
    "\n",
    "binary_x_sample.to_csv(\"{}/{}_binary_x_sample.tsv\".format(directory_path, gse_id))"
   ]
  },
  {
   "cell_type": "code",
   "execution_count": null,
   "metadata": {},
   "outputs": [],
   "source": [
    "from kraft import group, tidy\n",
    "\n",
    "\n",
    "def index_tidy_write(dataframe, dict_, file_path):\n",
    "\n",
    "    dataframe.index = dataframe.index.map(dict_)\n",
    "\n",
    "    dataframe = tidy(group(dataframe.loc[~dataframe.index.isna()]))\n",
    "\n",
    "    dataframe.to_csv(file_path, sep=\"\\t\")\n",
    "\n",
    "    return dataframe"
   ]
  },
  {
   "cell_type": "code",
   "execution_count": null,
   "metadata": {},
   "outputs": [],
   "source": [
    "gene_x_sample = pd.read_csv(\n",
    "    kraft.download(\n",
    "        \"ftp://ftp.ncbi.nlm.nih.gov/geo/series/GSE85nnn/GSE85212/suppl/GSE85212_Methylation_763samples_SubtypeStudy_TaylorLab_beta_values.txt.gz\",\n",
    "        directory_path,\n",
    "        overwrite=overwrite,\n",
    "    ),\n",
    "    sep=\"\\t\",\n",
    ")\n",
    "\n",
    "gene_x_sample.index = gene_x_sample.index.map(name_biology.ILMNID_GENE)\n",
    "\n",
    "gene_x_sample = tidy(group(gene_x_sample.loc[~gene_x_sample.index.isna()]))\n",
    "\n",
    "gene_x_sample.to_csv(\n",
    "    \"{}/{}_methylation_gene_x_sample.tsv\".format(directory_path, gse_id), sep=\"\\t\"\n",
    ")"
   ]
  },
  {
   "cell_type": "code",
   "execution_count": null,
   "metadata": {},
   "outputs": [],
   "source": [
    "gene_x_sample = pd.read_csv(\n",
    "    kraft.download(\n",
    "        \"ftp://ftp.ncbi.nlm.nih.gov/geo/series/GSE85nnn/GSE85217/suppl/GSE85217_M_exp_763_MB_SubtypeStudy_TaylorLab.txt.gz\",\n",
    "        directory_path,\n",
    "        overwrite=overwrite,\n",
    "    ),\n",
    "    sep=\"\\t\",\n",
    "    index_col=0,\n",
    ").iloc[:, 4:]\n",
    "\n",
    "\n",
    "gene_x_sample.index = gene_x_sample.index.map(name_biology.ENS_GENE)\n",
    "\n",
    "gene_x_sample = tidy(group(gene_x_sample.loc[~gene_x_sample.index.isna()]))\n",
    "\n",
    "gene_x_sample.to_csv(\n",
    "    \"{}/{}_rna_gene_x_sample.tsv\".format(directory_path, gse_id), sep=\"\\t\"\n",
    ")"
   ]
  }
 ],
 "metadata": {
  "kernelspec": {
   "display_name": "Python 3",
   "language": "python",
   "name": "python3"
  },
  "language_info": {
   "codemirror_mode": {
    "name": "ipython",
    "version": 3
   },
   "file_extension": ".py",
   "mimetype": "text/x-python",
   "name": "python",
   "nbconvert_exporter": "python",
   "pygments_lexer": "ipython3",
   "version": "3.7.6"
  }
 },
 "nbformat": 4,
 "nbformat_minor": 4
}
