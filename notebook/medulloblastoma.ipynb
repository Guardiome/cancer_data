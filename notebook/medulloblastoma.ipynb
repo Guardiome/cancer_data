{
 "cells": [
  {
   "cell_type": "code",
   "execution_count": null,
   "metadata": {},
   "outputs": [],
   "source": [
    "%load_ext autoreload\n",
    "%autoreload 2"
   ]
  },
  {
   "cell_type": "code",
   "execution_count": null,
   "metadata": {},
   "outputs": [],
   "source": [
    "import os\n",
    "\n",
    "import pandas as pd\n",
    "\n",
    "import get_geo\n",
    "import kraft\n",
    "import name_biology"
   ]
  },
  {
   "cell_type": "code",
   "execution_count": null,
   "metadata": {},
   "outputs": [],
   "source": [
    "directory_path = os.path.expanduser(\"~/Downloads\")\n",
    "\n",
    "overwrite = False"
   ]
  },
  {
   "cell_type": "markdown",
   "metadata": {},
   "source": [
    "## [Intertumoral Heterogeneity within Medulloblastoma Subgroups](https://www.cell.com/cancer-cell/fulltext/S1535-6108(17)30201-5)\n",
    "\n",
    "[GSE85218](https://www.ncbi.nlm.nih.gov/geo/query/acc.cgi?acc=GSE85218) is a SuperSeries containing [GSE85212](https://www.ncbi.nlm.nih.gov/geo/query/acc.cgi?acc=GSE85212) (methylation data) and [GSE85217](https://www.ncbi.nlm.nih.gov/geo/query/acc.cgi?acc=GSE85217) (RNA data).\n",
    "\n",
    "8's SOFT file has the information values for both 2 and 7, but the sample values for only 7.\n",
    "We do not read the information values from this SOFT file, because we read them from the paper's supplementary table 2, which has richer information for 2 and 7.\n",
    "(However, this table uses blue and red to represent 0 and 1, so we had to manually fix it and save it as mmc2.tsv before reading it.)\n",
    "Also, we do not read 7's sample values from this SOFT file because we read them from 7.\n",
    "Overall, we do not read from 8.\n",
    "\n",
    "2's SOFT file has the information values, but is missing the sample values, which are in its supplementary file.\n",
    "So we read 2's sample values from its supplementary file.\n",
    "\n",
    "7's SOFT file has the information values and the sample values.\n",
    "But these sample values have different sample names from the 2's sample values.\n",
    "7 also has a supplementary file with the sample values.\n",
    "And these sample values have the same sample names with the 2's sample values.\n",
    "For consistency and for matching the sample names, we read 7's sample values from its supplementary file."
   ]
  },
  {
   "cell_type": "code",
   "execution_count": null,
   "metadata": {},
   "outputs": [],
   "source": [
    "information_x_sample = kraft.tidy(pd.read_csv(\"mmc2.tsv\", sep=\"\\t\", index_col=0,).T)\n",
    "\n",
    "information_x_sample.index.name = \"Information\"\n",
    "\n",
    "information_x_sample"
   ]
  },
  {
   "cell_type": "code",
   "execution_count": null,
   "metadata": {},
   "outputs": [],
   "source": [
    "methylation_gene_x_sample = pd.read_csv(\n",
    "    kraft.download(\n",
    "        \"https://ftp.ncbi.nlm.nih.gov/geo/series/GSE85nnn/GSE85212/suppl/GSE85212_Methylation_763samples_SubtypeStudy_TaylorLab_beta_values.txt.gz\",\n",
    "        directory_path,\n",
    "        overwrite=overwrite,\n",
    "    ),\n",
    "    sep=\"\\t\",\n",
    ")\n",
    "\n",
    "methylation_gene_x_sample.index = methylation_gene_x_sample.index.map(\n",
    "    name_biology.ILMNID_GENE\n",
    ")\n",
    "\n",
    "methylation_gene_x_sample.index.name = \"Gene\"\n",
    "\n",
    "methylation_gene_x_sample = kraft.tidy(\n",
    "    kraft.group(methylation_gene_x_sample.loc[~methylation_gene_x_sample.index.isna()])\n",
    ")\n",
    "\n",
    "methylation_gene_x_sample"
   ]
  },
  {
   "cell_type": "code",
   "execution_count": null,
   "metadata": {},
   "outputs": [],
   "source": [
    "rna_gene_x_sample = pd.read_csv(\n",
    "    kraft.download(\n",
    "        \"https://ftp.ncbi.nlm.nih.gov/geo/series/GSE85nnn/GSE85217/suppl/GSE85217_M_exp_763_MB_SubtypeStudy_TaylorLab.txt.gz\",\n",
    "        directory_path,\n",
    "        overwrite=overwrite,\n",
    "    ),\n",
    "    sep=\"\\t\",\n",
    "    index_col=0,\n",
    ").iloc[:, 4:]\n",
    "\n",
    "rna_gene_x_sample.index = rna_gene_x_sample.index.map(name_biology.ENS_GENE)\n",
    "\n",
    "rna_gene_x_sample.index.name = \"Gene\"\n",
    "\n",
    "rna_gene_x_sample = kraft.tidy(\n",
    "    kraft.group(rna_gene_x_sample.loc[~rna_gene_x_sample.index.isna()])\n",
    ")\n",
    "\n",
    "rna_gene_x_sample"
   ]
  },
  {
   "cell_type": "markdown",
   "metadata": {},
   "source": [
    "## [Subgroup-specific structural variation across 1,000 medulloblastoma genomes](https://www.nature.com/articles/nature11327)\n",
    "\n",
    "[GSE37385](https://www.ncbi.nlm.nih.gov/geo/query/acc.cgi?acc=GSE37385) is a SuperSeries containing [GSE37382](https://www.ncbi.nlm.nih.gov/geo/query/acc.cgi?acc=GSE37382) (RNA data) and [GSE37384](https://www.ncbi.nlm.nih.gov/geo/query/acc.cgi?acc=GSE37384) (copy number data).\n",
    "\n",
    "5's SOFT file is 18GB because it contains 4, which is also 18GB.\n",
    "\n",
    "Because of 4's large size, we do not read 4 and 5.\n",
    "\n",
    "We only read the information values and the sample values from 2's SOFT file."
   ]
  },
  {
   "cell_type": "code",
   "execution_count": null,
   "metadata": {},
   "outputs": [],
   "source": [
    "gse_id = \"GSE37385\""
   ]
  },
  {
   "cell_type": "code",
   "execution_count": null,
   "metadata": {},
   "outputs": [],
   "source": [
    "information_x_samples, rna_gene_x_sample = get_geo.get_gse(\n",
    "    gse_id, directory_path, overwrite=overwrite\n",
    ")"
   ]
  },
  {
   "cell_type": "code",
   "execution_count": null,
   "metadata": {},
   "outputs": [],
   "source": [
    "gse_id = \"GSE37382\""
   ]
  },
  {
   "cell_type": "code",
   "execution_count": null,
   "metadata": {},
   "outputs": [],
   "source": [
    "information_x_samples, rna_gene_x_sample = get_geo.get_gse(\n",
    "    gse_id, directory_path, overwrite=overwrite\n",
    ")"
   ]
  },
  {
   "cell_type": "code",
   "execution_count": null,
   "metadata": {},
   "outputs": [],
   "source": [
    "gse_id = \"GSE37384\""
   ]
  },
  {
   "cell_type": "code",
   "execution_count": null,
   "metadata": {},
   "outputs": [],
   "source": [
    "information_x_samples, rna_gene_x_sample = get_geo.get_gse(\n",
    "    gse_id, directory_path, overwrite=overwrite\n",
    ")"
   ]
  },
  {
   "cell_type": "markdown",
   "metadata": {},
   "source": [
    "## [Novel molecular subgroups for clinical classification and outcome prediction in childhood medulloblastoma: a cohort study](https://www.thelancet.com/journals/lanonc/article/PIIS1470-2045(17)30243-7/fulltext)\n",
    "\n",
    "[GSE93646](https://www.ncbi.nlm.nih.gov/geo/query/acc.cgi?acc=GSE93646) has methylation data.\n",
    "\n",
    "Its SOFT file has only the information values but not the sample values, which are in its supplementary file. \n",
    "\n",
    "So we read the information values from its SOFT file and the sample values from its supplementary file."
   ]
  },
  {
   "cell_type": "code",
   "execution_count": null,
   "metadata": {},
   "outputs": [],
   "source": [
    "gse_id = \"GSE93646\""
   ]
  },
  {
   "cell_type": "code",
   "execution_count": null,
   "metadata": {},
   "outputs": [],
   "source": [
    "_x_samples = get_geo.get_gse(gse_id, directory_path, overwrite=overwrite)"
   ]
  },
  {
   "cell_type": "code",
   "execution_count": null,
   "metadata": {},
   "outputs": [],
   "source": [
    "methylation_gene_x_sample = pd.read_csv(\n",
    "    kraft.download(\n",
    "        \"ftp://ftp.ncbi.nlm.nih.gov/geo/series/GSE93nnn/GSE93646/suppl/GSE93646_processed_data.txt.gz\",\n",
    "        directory_path,\n",
    "        overwrite=overwrite,\n",
    "    ),\n",
    "    sep=\"\\t\",\n",
    "    index_col=1,\n",
    ").iloc[:, 1::2]\n",
    "\n",
    "methylation_gene_x_sample.index = methylation_gene_x_sample.index.map(\n",
    "    name_biology.ILMNID_GENE\n",
    ")\n",
    "\n",
    "methylation_gene_x_sample.index.name = \"Gene\"\n",
    "\n",
    "methylation_gene_x_sample = kraft.tidy(\n",
    "    kraft.group(methylation_gene_x_sample.loc[~methylation_gene_x_sample.index.isna()])\n",
    ")\n",
    "\n",
    "methylation_gene_x_sample"
   ]
  },
  {
   "cell_type": "markdown",
   "metadata": {},
   "source": [
    "## [Multiple recurrent genetic events converge on control of histone lysine methylation in medulloblastoma](https://www.nature.com/articles/ng.336)\n",
    "\n",
    "[GSE14437](https://www.ncbi.nlm.nih.gov/geo/query/acc.cgi?acc=GSE14437) has copy number data from 4 platforms.\n",
    "\n",
    "We read the information values and the sample values from its SOFT file."
   ]
  },
  {
   "cell_type": "code",
   "execution_count": null,
   "metadata": {},
   "outputs": [],
   "source": [
    "gse_id = \"GSE14437\""
   ]
  },
  {
   "cell_type": "code",
   "execution_count": null,
   "metadata": {},
   "outputs": [],
   "source": [
    "_x_samples = get_geo.get_gse(gse_id, directory_path, overwrite=overwrite)"
   ]
  }
 ],
 "metadata": {
  "kernelspec": {
   "display_name": "Python 3",
   "language": "python",
   "name": "python3"
  },
  "language_info": {
   "codemirror_mode": {
    "name": "ipython",
    "version": 3
   },
   "file_extension": ".py",
   "mimetype": "text/x-python",
   "name": "python",
   "nbconvert_exporter": "python",
   "pygments_lexer": "ipython3",
   "version": "3.7.6"
  }
 },
 "nbformat": 4,
 "nbformat_minor": 4
}
