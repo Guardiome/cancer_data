{
 "cells": [
  {
   "cell_type": "code",
   "execution_count": null,
   "metadata": {},
   "outputs": [],
   "source": [
    "%load_ext autoreload\n",
    "%autoreload 2"
   ]
  },
  {
   "cell_type": "code",
   "execution_count": null,
   "metadata": {},
   "outputs": [],
   "source": [
    "from gzip import open\n",
    "\n",
    "import pandas as pd\n",
    "\n",
    "import kraft"
   ]
  },
  {
   "cell_type": "code",
   "execution_count": null,
   "metadata": {},
   "outputs": [],
   "source": [
    "file_path = \"/home/kwat/CarrotCake/garden/data/medulloblastoma/northcott_et_al/GSE37382_family.soft.gz\""
   ]
  },
  {
   "cell_type": "code",
   "execution_count": null,
   "metadata": {
    "scrolled": true
   },
   "outputs": [],
   "source": [
    "with open(file_path) as io:\n",
    "\n",
    "    platform_data_headers = []\n",
    "\n",
    "    platform_data_rows = []\n",
    "\n",
    "    samples = {}\n",
    "\n",
    "    for line in io:\n",
    "\n",
    "        line = line.decode()\n",
    "\n",
    "        if line == \"!platform_table_begin\\n\":\n",
    "\n",
    "            line = io.readline().decode()\n",
    "\n",
    "            while line != \"!platform_table_end\\n\":\n",
    "\n",
    "                platform_data_rows.append(line.rstrip().split(sep=\"\\t\"))\n",
    "\n",
    "                line = io.readline().decode()\n",
    "\n",
    "        if line.startswith(\"^SAMPLE\"):\n",
    "\n",
    "            sample = line.rstrip().split(sep=\" = \")[1]\n",
    "\n",
    "            samples[sample] = {\"table\": []}\n",
    "\n",
    "            line = io.readline().decode()\n",
    "\n",
    "            while line.startswith(\"^SAMPLE\"):\n",
    "\n",
    "                if line == \"!sample_table_begin\\n\":\n",
    "\n",
    "                    line = io.readline().decode()\n",
    "\n",
    "                    while line != \"!sample_table_end\\n\":\n",
    "\n",
    "                        samples[sample][\"table\"].append(line.rstrip().split(sep=\"\\t\"))\n",
    "\n",
    "                        line = io.readline().decode()\n",
    "\n",
    "                else:\n",
    "\n",
    "                    try:\n",
    "\n",
    "                        key, value = line.rstrip().split(sep=\" = \")\n",
    "\n",
    "                    except:\n",
    "\n",
    "                        continue\n",
    "\n",
    "                    samples[sample][key] = value\n",
    "\n",
    "                line = io.readline().decode()\n",
    "\n",
    "platform_table = pd.DataFrame(data=platform_data_rows)\n",
    "\n",
    "platform_table.columns = platform_table.iloc[0]\n",
    "\n",
    "assert not platform_table.columns.has_duplicates\n",
    "\n",
    "platform_table.drop(0, inplace=True)\n",
    "\n",
    "platform_table.set_index(\"ID\", inplace=True)\n",
    "\n",
    "assert not platform_table.index.has_duplicates\n",
    "\n",
    "platform_table"
   ]
  }
 ],
 "metadata": {
  "kernelspec": {
   "display_name": "Python 3",
   "language": "python",
   "name": "python3"
  },
  "language_info": {
   "codemirror_mode": {
    "name": "ipython",
    "version": 3
   },
   "file_extension": ".py",
   "mimetype": "text/x-python",
   "name": "python",
   "nbconvert_exporter": "python",
   "pygments_lexer": "ipython3",
   "version": "3.7.6"
  }
 },
 "nbformat": 4,
 "nbformat_minor": 4
}
